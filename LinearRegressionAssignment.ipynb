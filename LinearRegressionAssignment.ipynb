{
 "cells": [
  {
   "cell_type": "code",
   "execution_count": 1,
   "id": "423de620",
   "metadata": {},
   "outputs": [],
   "source": [
    "# Importing Data Analysis modules\n",
    "import pandas as pd\n",
    "import numpy as np\n",
    "import matplotlib.pyplot as plt\n",
    "import seaborn as sns\n",
    "\n",
    "# For changing settings for more interaction with the shell\n",
    "from IPython.core.interactiveshell import InteractiveShell\n",
    "InteractiveShell.ast_node_interactivity = 'all'\n",
    "\n",
    "# For suppressing warnings\n",
    "import warnings\n",
    "warnings.filterwarnings('ignore')\n",
    "\n",
    "# For splitting data into train, test, to encode categorical variables, to scale the features\n",
    "from sklearn.preprocessing import MinMaxScaler, OneHotEncoder\n",
    "from sklearn.model_selection import train_test_split\n",
    "\n",
    "# For implementing linear regression\n",
    "import statsmodels.api as sm\n",
    "\n",
    "# For metric to evaluate the models\n",
    "from sklearn.metrics import r2_score\n",
    "from statsmodels.stats.outliers_influence import variance_inflation_factor\n",
    "\n",
    "# setting option for pandas to display all columns\n",
    "pd.set_option('display.max_columns', None)\n",
    "pd.set_option('display.max_rows', None)"
   ]
  },
  {
   "cell_type": "code",
   "execution_count": 2,
   "id": "4a1a0e61",
   "metadata": {},
   "outputs": [],
   "source": [
    "# Read the dataframe\n",
    "df = pd.read_csv('C:/Users/biswa/OneDrive/UPGRAD/LinearRegression/Biswa_LinearRegressionAssignment/Day.csv')"
   ]
  },
  {
   "cell_type": "code",
   "execution_count": 3,
   "id": "2ccfaed4",
   "metadata": {},
   "outputs": [
    {
     "data": {
      "text/html": [
       "<div>\n",
       "<style scoped>\n",
       "    .dataframe tbody tr th:only-of-type {\n",
       "        vertical-align: middle;\n",
       "    }\n",
       "\n",
       "    .dataframe tbody tr th {\n",
       "        vertical-align: top;\n",
       "    }\n",
       "\n",
       "    .dataframe thead th {\n",
       "        text-align: right;\n",
       "    }\n",
       "</style>\n",
       "<table border=\"1\" class=\"dataframe\">\n",
       "  <thead>\n",
       "    <tr style=\"text-align: right;\">\n",
       "      <th></th>\n",
       "      <th>instant</th>\n",
       "      <th>dteday</th>\n",
       "      <th>season</th>\n",
       "      <th>yr</th>\n",
       "      <th>mnth</th>\n",
       "      <th>holiday</th>\n",
       "      <th>weekday</th>\n",
       "      <th>workingday</th>\n",
       "      <th>weathersit</th>\n",
       "      <th>temp</th>\n",
       "      <th>atemp</th>\n",
       "      <th>hum</th>\n",
       "      <th>windspeed</th>\n",
       "      <th>casual</th>\n",
       "      <th>registered</th>\n",
       "      <th>cnt</th>\n",
       "    </tr>\n",
       "  </thead>\n",
       "  <tbody>\n",
       "    <tr>\n",
       "      <th>0</th>\n",
       "      <td>1</td>\n",
       "      <td>01-01-2018</td>\n",
       "      <td>1</td>\n",
       "      <td>0</td>\n",
       "      <td>1</td>\n",
       "      <td>0</td>\n",
       "      <td>6</td>\n",
       "      <td>0</td>\n",
       "      <td>2</td>\n",
       "      <td>14.110847</td>\n",
       "      <td>18.18125</td>\n",
       "      <td>80.5833</td>\n",
       "      <td>10.749882</td>\n",
       "      <td>331</td>\n",
       "      <td>654</td>\n",
       "      <td>985</td>\n",
       "    </tr>\n",
       "    <tr>\n",
       "      <th>1</th>\n",
       "      <td>2</td>\n",
       "      <td>02-01-2018</td>\n",
       "      <td>1</td>\n",
       "      <td>0</td>\n",
       "      <td>1</td>\n",
       "      <td>0</td>\n",
       "      <td>0</td>\n",
       "      <td>0</td>\n",
       "      <td>2</td>\n",
       "      <td>14.902598</td>\n",
       "      <td>17.68695</td>\n",
       "      <td>69.6087</td>\n",
       "      <td>16.652113</td>\n",
       "      <td>131</td>\n",
       "      <td>670</td>\n",
       "      <td>801</td>\n",
       "    </tr>\n",
       "    <tr>\n",
       "      <th>2</th>\n",
       "      <td>3</td>\n",
       "      <td>03-01-2018</td>\n",
       "      <td>1</td>\n",
       "      <td>0</td>\n",
       "      <td>1</td>\n",
       "      <td>0</td>\n",
       "      <td>1</td>\n",
       "      <td>1</td>\n",
       "      <td>1</td>\n",
       "      <td>8.050924</td>\n",
       "      <td>9.47025</td>\n",
       "      <td>43.7273</td>\n",
       "      <td>16.636703</td>\n",
       "      <td>120</td>\n",
       "      <td>1229</td>\n",
       "      <td>1349</td>\n",
       "    </tr>\n",
       "    <tr>\n",
       "      <th>3</th>\n",
       "      <td>4</td>\n",
       "      <td>04-01-2018</td>\n",
       "      <td>1</td>\n",
       "      <td>0</td>\n",
       "      <td>1</td>\n",
       "      <td>0</td>\n",
       "      <td>2</td>\n",
       "      <td>1</td>\n",
       "      <td>1</td>\n",
       "      <td>8.200000</td>\n",
       "      <td>10.60610</td>\n",
       "      <td>59.0435</td>\n",
       "      <td>10.739832</td>\n",
       "      <td>108</td>\n",
       "      <td>1454</td>\n",
       "      <td>1562</td>\n",
       "    </tr>\n",
       "    <tr>\n",
       "      <th>4</th>\n",
       "      <td>5</td>\n",
       "      <td>05-01-2018</td>\n",
       "      <td>1</td>\n",
       "      <td>0</td>\n",
       "      <td>1</td>\n",
       "      <td>0</td>\n",
       "      <td>3</td>\n",
       "      <td>1</td>\n",
       "      <td>1</td>\n",
       "      <td>9.305237</td>\n",
       "      <td>11.46350</td>\n",
       "      <td>43.6957</td>\n",
       "      <td>12.522300</td>\n",
       "      <td>82</td>\n",
       "      <td>1518</td>\n",
       "      <td>1600</td>\n",
       "    </tr>\n",
       "  </tbody>\n",
       "</table>\n",
       "</div>"
      ],
      "text/plain": [
       "   instant      dteday  season  yr  mnth  holiday  weekday  workingday  \\\n",
       "0        1  01-01-2018       1   0     1        0        6           0   \n",
       "1        2  02-01-2018       1   0     1        0        0           0   \n",
       "2        3  03-01-2018       1   0     1        0        1           1   \n",
       "3        4  04-01-2018       1   0     1        0        2           1   \n",
       "4        5  05-01-2018       1   0     1        0        3           1   \n",
       "\n",
       "   weathersit       temp     atemp      hum  windspeed  casual  registered  \\\n",
       "0           2  14.110847  18.18125  80.5833  10.749882     331         654   \n",
       "1           2  14.902598  17.68695  69.6087  16.652113     131         670   \n",
       "2           1   8.050924   9.47025  43.7273  16.636703     120        1229   \n",
       "3           1   8.200000  10.60610  59.0435  10.739832     108        1454   \n",
       "4           1   9.305237  11.46350  43.6957  12.522300      82        1518   \n",
       "\n",
       "    cnt  \n",
       "0   985  \n",
       "1   801  \n",
       "2  1349  \n",
       "3  1562  \n",
       "4  1600  "
      ]
     },
     "execution_count": 3,
     "metadata": {},
     "output_type": "execute_result"
    }
   ],
   "source": [
    "df.head()"
   ]
  },
  {
   "cell_type": "code",
   "execution_count": 4,
   "id": "66d654b6",
   "metadata": {},
   "outputs": [
    {
     "name": "stdout",
     "output_type": "stream",
     "text": [
      "<class 'pandas.core.frame.DataFrame'>\n",
      "RangeIndex: 730 entries, 0 to 729\n",
      "Data columns (total 16 columns):\n",
      " #   Column      Non-Null Count  Dtype  \n",
      "---  ------      --------------  -----  \n",
      " 0   instant     730 non-null    int64  \n",
      " 1   dteday      730 non-null    object \n",
      " 2   season      730 non-null    int64  \n",
      " 3   yr          730 non-null    int64  \n",
      " 4   mnth        730 non-null    int64  \n",
      " 5   holiday     730 non-null    int64  \n",
      " 6   weekday     730 non-null    int64  \n",
      " 7   workingday  730 non-null    int64  \n",
      " 8   weathersit  730 non-null    int64  \n",
      " 9   temp        730 non-null    float64\n",
      " 10  atemp       730 non-null    float64\n",
      " 11  hum         730 non-null    float64\n",
      " 12  windspeed   730 non-null    float64\n",
      " 13  casual      730 non-null    int64  \n",
      " 14  registered  730 non-null    int64  \n",
      " 15  cnt         730 non-null    int64  \n",
      "dtypes: float64(4), int64(11), object(1)\n",
      "memory usage: 91.4+ KB\n"
     ]
    }
   ],
   "source": [
    "df.info()"
   ]
  },
  {
   "cell_type": "code",
   "execution_count": null,
   "id": "f25d65ef",
   "metadata": {},
   "outputs": [],
   "source": [
    "# No missing values\n",
    "# instant is incremental number and can be removed.\n",
    "# drop dteday.\n",
    "# cnt is an aggregate, can be dropped."
   ]
  },
  {
   "cell_type": "code",
   "execution_count": 5,
   "id": "84218778",
   "metadata": {},
   "outputs": [
    {
     "data": {
      "text/html": [
       "<div>\n",
       "<style scoped>\n",
       "    .dataframe tbody tr th:only-of-type {\n",
       "        vertical-align: middle;\n",
       "    }\n",
       "\n",
       "    .dataframe tbody tr th {\n",
       "        vertical-align: top;\n",
       "    }\n",
       "\n",
       "    .dataframe thead th {\n",
       "        text-align: right;\n",
       "    }\n",
       "</style>\n",
       "<table border=\"1\" class=\"dataframe\">\n",
       "  <thead>\n",
       "    <tr style=\"text-align: right;\">\n",
       "      <th></th>\n",
       "      <th>instant</th>\n",
       "      <th>dteday</th>\n",
       "      <th>season</th>\n",
       "      <th>yr</th>\n",
       "      <th>mnth</th>\n",
       "      <th>holiday</th>\n",
       "      <th>weekday</th>\n",
       "      <th>workingday</th>\n",
       "      <th>weathersit</th>\n",
       "      <th>temp</th>\n",
       "      <th>atemp</th>\n",
       "      <th>hum</th>\n",
       "      <th>windspeed</th>\n",
       "      <th>casual</th>\n",
       "      <th>registered</th>\n",
       "      <th>cnt</th>\n",
       "    </tr>\n",
       "  </thead>\n",
       "  <tbody>\n",
       "    <tr>\n",
       "      <th>0</th>\n",
       "      <td>1</td>\n",
       "      <td>01-01-2018</td>\n",
       "      <td>1</td>\n",
       "      <td>0</td>\n",
       "      <td>1</td>\n",
       "      <td>0</td>\n",
       "      <td>6</td>\n",
       "      <td>0</td>\n",
       "      <td>2</td>\n",
       "      <td>14.110847</td>\n",
       "      <td>18.18125</td>\n",
       "      <td>80.5833</td>\n",
       "      <td>10.749882</td>\n",
       "      <td>331</td>\n",
       "      <td>654</td>\n",
       "      <td>985</td>\n",
       "    </tr>\n",
       "    <tr>\n",
       "      <th>1</th>\n",
       "      <td>2</td>\n",
       "      <td>02-01-2018</td>\n",
       "      <td>1</td>\n",
       "      <td>0</td>\n",
       "      <td>1</td>\n",
       "      <td>0</td>\n",
       "      <td>0</td>\n",
       "      <td>0</td>\n",
       "      <td>2</td>\n",
       "      <td>14.902598</td>\n",
       "      <td>17.68695</td>\n",
       "      <td>69.6087</td>\n",
       "      <td>16.652113</td>\n",
       "      <td>131</td>\n",
       "      <td>670</td>\n",
       "      <td>801</td>\n",
       "    </tr>\n",
       "    <tr>\n",
       "      <th>2</th>\n",
       "      <td>3</td>\n",
       "      <td>03-01-2018</td>\n",
       "      <td>1</td>\n",
       "      <td>0</td>\n",
       "      <td>1</td>\n",
       "      <td>0</td>\n",
       "      <td>1</td>\n",
       "      <td>1</td>\n",
       "      <td>1</td>\n",
       "      <td>8.050924</td>\n",
       "      <td>9.47025</td>\n",
       "      <td>43.7273</td>\n",
       "      <td>16.636703</td>\n",
       "      <td>120</td>\n",
       "      <td>1229</td>\n",
       "      <td>1349</td>\n",
       "    </tr>\n",
       "    <tr>\n",
       "      <th>3</th>\n",
       "      <td>4</td>\n",
       "      <td>04-01-2018</td>\n",
       "      <td>1</td>\n",
       "      <td>0</td>\n",
       "      <td>1</td>\n",
       "      <td>0</td>\n",
       "      <td>2</td>\n",
       "      <td>1</td>\n",
       "      <td>1</td>\n",
       "      <td>8.200000</td>\n",
       "      <td>10.60610</td>\n",
       "      <td>59.0435</td>\n",
       "      <td>10.739832</td>\n",
       "      <td>108</td>\n",
       "      <td>1454</td>\n",
       "      <td>1562</td>\n",
       "    </tr>\n",
       "    <tr>\n",
       "      <th>4</th>\n",
       "      <td>5</td>\n",
       "      <td>05-01-2018</td>\n",
       "      <td>1</td>\n",
       "      <td>0</td>\n",
       "      <td>1</td>\n",
       "      <td>0</td>\n",
       "      <td>3</td>\n",
       "      <td>1</td>\n",
       "      <td>1</td>\n",
       "      <td>9.305237</td>\n",
       "      <td>11.46350</td>\n",
       "      <td>43.6957</td>\n",
       "      <td>12.522300</td>\n",
       "      <td>82</td>\n",
       "      <td>1518</td>\n",
       "      <td>1600</td>\n",
       "    </tr>\n",
       "  </tbody>\n",
       "</table>\n",
       "</div>"
      ],
      "text/plain": [
       "   instant      dteday  season  yr  mnth  holiday  weekday  workingday  \\\n",
       "0        1  01-01-2018       1   0     1        0        6           0   \n",
       "1        2  02-01-2018       1   0     1        0        0           0   \n",
       "2        3  03-01-2018       1   0     1        0        1           1   \n",
       "3        4  04-01-2018       1   0     1        0        2           1   \n",
       "4        5  05-01-2018       1   0     1        0        3           1   \n",
       "\n",
       "   weathersit       temp     atemp      hum  windspeed  casual  registered  \\\n",
       "0           2  14.110847  18.18125  80.5833  10.749882     331         654   \n",
       "1           2  14.902598  17.68695  69.6087  16.652113     131         670   \n",
       "2           1   8.050924   9.47025  43.7273  16.636703     120        1229   \n",
       "3           1   8.200000  10.60610  59.0435  10.739832     108        1454   \n",
       "4           1   9.305237  11.46350  43.6957  12.522300      82        1518   \n",
       "\n",
       "    cnt  \n",
       "0   985  \n",
       "1   801  \n",
       "2  1349  \n",
       "3  1562  \n",
       "4  1600  "
      ]
     },
     "execution_count": 5,
     "metadata": {},
     "output_type": "execute_result"
    }
   ],
   "source": [
    "df.head()"
   ]
  },
  {
   "cell_type": "code",
   "execution_count": 6,
   "id": "5cc4a804",
   "metadata": {},
   "outputs": [],
   "source": [
    "# Make a copy\n",
    "df1 = df.copy()"
   ]
  },
  {
   "cell_type": "markdown",
   "id": "3c0d3725",
   "metadata": {},
   "source": [
    "### Features"
   ]
  },
  {
   "cell_type": "code",
   "execution_count": 7,
   "id": "fad588b7",
   "metadata": {},
   "outputs": [],
   "source": [
    "# Dropping features\n",
    "df1.drop(['instant', 'dteday','casual', 'registered'], axis=1, inplace=True)"
   ]
  },
  {
   "cell_type": "code",
   "execution_count": 8,
   "id": "5fed4158",
   "metadata": {},
   "outputs": [],
   "source": [
    "# creating categorical and continuous variable list\n",
    "categorical_vars = ['season', 'weekday', 'holiday', 'workingday', 'weathersit', 'yr', 'mnth']\n",
    "continuous_vars  = ['temp', 'atemp', 'hum', 'windspeed']"
   ]
  },
  {
   "cell_type": "code",
   "execution_count": 9,
   "id": "e847bc3a",
   "metadata": {},
   "outputs": [],
   "source": [
    "# Changing the type of the categorical variables to category\n",
    "df1[categorical_vars] = df1[categorical_vars].astype('category')"
   ]
  },
  {
   "cell_type": "markdown",
   "id": "0f8b00bc",
   "metadata": {},
   "source": [
    "### Data Visualisation"
   ]
  },
  {
   "cell_type": "code",
   "execution_count": 10,
   "id": "76f7a6bb",
   "metadata": {},
   "outputs": [],
   "source": [
    "# Creating dataframe visualisation\n",
    "df2 = df1.copy()"
   ]
  },
  {
   "cell_type": "code",
   "execution_count": 11,
   "id": "604ee2d7",
   "metadata": {},
   "outputs": [
    {
     "name": "stdout",
     "output_type": "stream",
     "text": [
      "<class 'pandas.core.frame.DataFrame'>\n",
      "RangeIndex: 730 entries, 0 to 729\n",
      "Data columns (total 12 columns):\n",
      " #   Column      Non-Null Count  Dtype   \n",
      "---  ------      --------------  -----   \n",
      " 0   season      730 non-null    category\n",
      " 1   yr          730 non-null    category\n",
      " 2   mnth        730 non-null    category\n",
      " 3   holiday     730 non-null    category\n",
      " 4   weekday     730 non-null    category\n",
      " 5   workingday  730 non-null    category\n",
      " 6   weathersit  730 non-null    category\n",
      " 7   temp        730 non-null    float64 \n",
      " 8   atemp       730 non-null    float64 \n",
      " 9   hum         730 non-null    float64 \n",
      " 10  windspeed   730 non-null    float64 \n",
      " 11  cnt         730 non-null    int64   \n",
      "dtypes: category(7), float64(4), int64(1)\n",
      "memory usage: 35.1 KB\n"
     ]
    }
   ],
   "source": [
    "df2.info()"
   ]
  },
  {
   "cell_type": "code",
   "execution_count": 12,
   "id": "62633634",
   "metadata": {},
   "outputs": [
    {
     "data": {
      "text/plain": [
       "<seaborn.axisgrid.PairGrid at 0x2ac96d45cd0>"
      ]
     },
     "execution_count": 12,
     "metadata": {},
     "output_type": "execute_result"
    },
    {
     "data": {
      "image/png": "[encoded data removed]",
      "text/plain": [
       "<Figure size 900x900 with 30 Axes>"
      ]
     },
     "metadata": {
      "needs_background": "light"
     },
     "output_type": "display_data"
    }
   ],
   "source": [
    "sns.pairplot(df2)"
   ]
  },
  {
   "cell_type": "markdown",
   "id": "a35c9912",
   "metadata": {},
   "source": [
    "Variables with positive trend with target:\n",
    "* atemp      -  with neither too high or too low variance. it has good linearity\n",
    "* temp       -  same as temp\n",
    "\n",
    "Variables with negative trend with target:\n",
    "- windspeed  -  high variance\n",
    "- hum        -  high variance"
   ]
  },
  {
   "cell_type": "code",
   "execution_count": 13,
   "id": "b1501948",
   "metadata": {},
   "outputs": [
    {
     "data": {
      "text/plain": [
       "(['season', 'weekday', 'holiday', 'workingday', 'weathersit', 'yr', 'mnth'],\n",
       " ['temp', 'atemp', 'hum', 'windspeed'])"
      ]
     },
     "execution_count": 13,
     "metadata": {},
     "output_type": "execute_result"
    }
   ],
   "source": [
    "categorical_vars, continuous_vars"
   ]
  },
  {
   "cell_type": "code",
   "execution_count": 14,
   "id": "704cddc0",
   "metadata": {},
   "outputs": [
    {
     "data": {
      "text/plain": [
       "<AxesSubplot:xlabel='season', ylabel='cnt'>"
      ]
     },
     "execution_count": 14,
     "metadata": {},
     "output_type": "execute_result"
    },
    {
     "data": {
      "image/png": "[encoded data removed]",
      "text/plain": [
       "<Figure size 432x288 with 1 Axes>"
      ]
     },
     "metadata": {
      "needs_background": "light"
     },
     "output_type": "display_data"
    }
   ],
   "source": [
    "sns.barplot(df2['season'], df2['cnt'], df2['yr'])"
   ]
  },
  {
   "cell_type": "markdown",
   "id": "c60cfdf3",
   "metadata": {},
   "source": [
    "Fall season has the highest bookings and Spring has the lowest\n",
    "\n",
    "There are more bookings in the year 2019 than 2018"
   ]
  },
  {
   "cell_type": "code",
   "execution_count": 16,
   "id": "e40aa268",
   "metadata": {},
   "outputs": [
    {
     "data": {
      "text/plain": [
       "['season', 'weekday', 'holiday', 'workingday', 'weathersit', 'yr', 'mnth']"
      ]
     },
     "execution_count": 16,
     "metadata": {},
     "output_type": "execute_result"
    }
   ],
   "source": [
    "categorical_vars"
   ]
  },
  {
   "cell_type": "code",
   "execution_count": 18,
   "id": "7e461991",
   "metadata": {},
   "outputs": [
    {
     "data": {
      "text/plain": [
       "<Figure size 1080x1440 with 0 Axes>"
      ]
     },
     "execution_count": 18,
     "metadata": {},
     "output_type": "execute_result"
    },
    {
     "data": {
      "text/plain": [
       "<AxesSubplot:>"
      ]
     },
     "execution_count": 18,
     "metadata": {},
     "output_type": "execute_result"
    },
    {
     "data": {
      "text/plain": [
       "<AxesSubplot:xlabel='season', ylabel='cnt'>"
      ]
     },
     "execution_count": 18,
     "metadata": {},
     "output_type": "execute_result"
    },
    {
     "data": {
      "text/plain": [
       "<AxesSubplot:>"
      ]
     },
     "execution_count": 18,
     "metadata": {},
     "output_type": "execute_result"
    },
    {
     "data": {
      "text/plain": [
       "<AxesSubplot:xlabel='weekday', ylabel='cnt'>"
      ]
     },
     "execution_count": 18,
     "metadata": {},
     "output_type": "execute_result"
    },
    {
     "data": {
      "text/plain": [
       "<AxesSubplot:>"
      ]
     },
     "execution_count": 18,
     "metadata": {},
     "output_type": "execute_result"
    },
    {
     "data": {
      "text/plain": [
       "<AxesSubplot:xlabel='holiday', ylabel='cnt'>"
      ]
     },
     "execution_count": 18,
     "metadata": {},
     "output_type": "execute_result"
    },
    {
     "data": {
      "text/plain": [
       "<AxesSubplot:>"
      ]
     },
     "execution_count": 18,
     "metadata": {},
     "output_type": "execute_result"
    },
    {
     "data": {
      "text/plain": [
       "<AxesSubplot:xlabel='workingday', ylabel='cnt'>"
      ]
     },
     "execution_count": 18,
     "metadata": {},
     "output_type": "execute_result"
    },
    {
     "data": {
      "text/plain": [
       "<AxesSubplot:>"
      ]
     },
     "execution_count": 18,
     "metadata": {},
     "output_type": "execute_result"
    },
    {
     "data": {
      "text/plain": [
       "<AxesSubplot:xlabel='weathersit', ylabel='cnt'>"
      ]
     },
     "execution_count": 18,
     "metadata": {},
     "output_type": "execute_result"
    },
    {
     "data": {
      "text/plain": [
       "<AxesSubplot:>"
      ]
     },
     "execution_count": 18,
     "metadata": {},
     "output_type": "execute_result"
    },
    {
     "data": {
      "text/plain": [
       "<AxesSubplot:xlabel='yr', ylabel='cnt'>"
      ]
     },
     "execution_count": 18,
     "metadata": {},
     "output_type": "execute_result"
    },
    {
     "data": {
      "text/plain": [
       "<AxesSubplot:>"
      ]
     },
     "execution_count": 18,
     "metadata": {},
     "output_type": "execute_result"
    },
    {
     "data": {
      "text/plain": [
       "<AxesSubplot:xlabel='mnth', ylabel='cnt'>"
      ]
     },
     "execution_count": 18,
     "metadata": {},
     "output_type": "execute_result"
    },
    {
     "data": {
      "image/png": "[encoded data removed]",
      "text/plain": [
       "<Figure size 1080x1440 with 7 Axes>"
      ]
     },
     "metadata": {
      "needs_background": "light"
     },
     "output_type": "display_data"
    }
   ],
   "source": [
    "plt.figure(figsize=(15, 20))\n",
    "plt.subplot(4,2,1)\n",
    "sns.barplot(x = 'season', y = 'cnt', data = df2)\n",
    "plt.subplot(4,2,2)\n",
    "sns.barplot(x = 'weekday', y = 'cnt', data = df2)\n",
    "plt.subplot(4,2,3)\n",
    "sns.barplot(x = 'holiday', y = 'cnt', data = df2)\n",
    "plt.subplot(4,2,4)\n",
    "sns.barplot(x = 'workingday', y = 'cnt', data = df2)\n",
    "plt.subplot(4,2,5)\n",
    "sns.barplot(x = 'weathersit', y = 'cnt', data = df2)\n",
    "plt.subplot(4,2,6)\n",
    "sns.barplot(x = 'yr', y = 'cnt', data = df2)\n",
    "plt.subplot(4,2,7)\n",
    "sns.barplot(x = 'mnth', y = 'cnt', data = df2)\n",
    "\n",
    "plt.show()"
   ]
  },
  {
   "cell_type": "markdown",
   "id": "4ee1189e",
   "metadata": {},
   "source": [
    "* The no of bookings increase month by month and then comes down\n",
    "* 2019 has higher bookings\n",
    "* Bookings on weekday don't have too many variance\n",
    "* During Fall season, bookings were high\n",
    "* Fall has more bookings"
   ]
  },
  {
   "cell_type": "code",
   "execution_count": 19,
   "id": "c14103bb",
   "metadata": {},
   "outputs": [
    {
     "data": {
      "text/plain": [
       "<Figure size 720x720 with 0 Axes>"
      ]
     },
     "execution_count": 19,
     "metadata": {},
     "output_type": "execute_result"
    },
    {
     "data": {
      "text/plain": [
       "<AxesSubplot:>"
      ]
     },
     "execution_count": 19,
     "metadata": {},
     "output_type": "execute_result"
    },
    {
     "data": {
      "text/plain": [
       "<AxesSubplot:xlabel='atemp'>"
      ]
     },
     "execution_count": 19,
     "metadata": {},
     "output_type": "execute_result"
    },
    {
     "data": {
      "text/plain": [
       "<AxesSubplot:>"
      ]
     },
     "execution_count": 19,
     "metadata": {},
     "output_type": "execute_result"
    },
    {
     "data": {
      "text/plain": [
       "<AxesSubplot:xlabel='temp'>"
      ]
     },
     "execution_count": 19,
     "metadata": {},
     "output_type": "execute_result"
    },
    {
     "data": {
      "text/plain": [
       "<AxesSubplot:>"
      ]
     },
     "execution_count": 19,
     "metadata": {},
     "output_type": "execute_result"
    },
    {
     "data": {
      "text/plain": [
       "<AxesSubplot:xlabel='windspeed'>"
      ]
     },
     "execution_count": 19,
     "metadata": {},
     "output_type": "execute_result"
    },
    {
     "data": {
      "text/plain": [
       "<AxesSubplot:>"
      ]
     },
     "execution_count": 19,
     "metadata": {},
     "output_type": "execute_result"
    },
    {
     "data": {
      "text/plain": [
       "<AxesSubplot:xlabel='hum'>"
      ]
     },
     "execution_count": 19,
     "metadata": {},
     "output_type": "execute_result"
    },
    {
     "data": {
      "image/png": "[encoded data removed]",
      "text/plain": [
       "<Figure size 720x720 with 4 Axes>"
      ]
     },
     "metadata": {
      "needs_background": "light"
     },
     "output_type": "display_data"
    }
   ],
   "source": [
    "plt.figure(figsize=(10, 10))\n",
    "plt.subplot(2,2,1)\n",
    "sns.boxplot(x = 'atemp', data = df2)\n",
    "plt.subplot(2,2,2)\n",
    "sns.boxplot(x = 'temp', data = df2)\n",
    "plt.subplot(2,2,3)\n",
    "sns.boxplot(x = 'windspeed', data = df2)\n",
    "plt.subplot(2,2,4)\n",
    "sns.boxplot(x = 'hum', data = df2)\n",
    "plt.show()"
   ]
  },
  {
   "cell_type": "markdown",
   "id": "a135a562",
   "metadata": {},
   "source": [
    "### Encoding the categorical variables"
   ]
  },
  {
   "cell_type": "code",
   "execution_count": 20,
   "id": "9f763408",
   "metadata": {},
   "outputs": [
    {
     "data": {
      "text/plain": [
       "3    188\n",
       "2    184\n",
       "1    180\n",
       "4    178\n",
       "Name: season, dtype: int64"
      ]
     },
     "execution_count": 20,
     "metadata": {},
     "output_type": "execute_result"
    },
    {
     "data": {
      "text/plain": [
       "0    105\n",
       "1    105\n",
       "6    105\n",
       "2    104\n",
       "4    104\n",
       "5    104\n",
       "3    103\n",
       "Name: weekday, dtype: int64"
      ]
     },
     "execution_count": 20,
     "metadata": {},
     "output_type": "execute_result"
    },
    {
     "data": {
      "text/plain": [
       "0    709\n",
       "1     21\n",
       "Name: holiday, dtype: int64"
      ]
     },
     "execution_count": 20,
     "metadata": {},
     "output_type": "execute_result"
    },
    {
     "data": {
      "text/plain": [
       "1    499\n",
       "0    231\n",
       "Name: workingday, dtype: int64"
      ]
     },
     "execution_count": 20,
     "metadata": {},
     "output_type": "execute_result"
    },
    {
     "data": {
      "text/plain": [
       "1    463\n",
       "2    246\n",
       "3     21\n",
       "Name: weathersit, dtype: int64"
      ]
     },
     "execution_count": 20,
     "metadata": {},
     "output_type": "execute_result"
    },
    {
     "data": {
      "text/plain": [
       "0    365\n",
       "1    365\n",
       "Name: yr, dtype: int64"
      ]
     },
     "execution_count": 20,
     "metadata": {},
     "output_type": "execute_result"
    },
    {
     "data": {
      "text/plain": [
       "1     62\n",
       "3     62\n",
       "5     62\n",
       "7     62\n",
       "8     62\n",
       "10    62\n",
       "12    62\n",
       "4     60\n",
       "6     60\n",
       "9     60\n",
       "11    60\n",
       "2     56\n",
       "Name: mnth, dtype: int64"
      ]
     },
     "execution_count": 20,
     "metadata": {},
     "output_type": "execute_result"
    }
   ],
   "source": [
    "for i in categorical_vars:\n",
    "    df1[i].value_counts()"
   ]
  },
  {
   "cell_type": "markdown",
   "id": "8940bb39",
   "metadata": {},
   "source": [
    "Variables to be encoded are: \n",
    "1. mnth\n",
    "2. weathersit\n",
    "3. season\n",
    "4. weekday"
   ]
  },
  {
   "cell_type": "code",
   "execution_count": 21,
   "id": "77b8a9b6",
   "metadata": {},
   "outputs": [],
   "source": [
    "# Fall is important as it has highest amount of bookings,\n",
    "# Encoding 3 variables, weekday, weathersit, mnth\n",
    "cat_encoded_df = pd.get_dummies(df1[['weekday', 'weathersit', 'mnth']], drop_first=True)\n",
    "\n",
    "# encoding season\n",
    "season_encoded_df = pd.get_dummies(df1['season'])\n",
    "season_encoded_df = season_encoded_df[[2,3,4]]\n",
    "season_encoded_df.columns = ['Summer', 'Fall', 'Winter']\n",
    "\n",
    "# Concatenating the both dataframes\n",
    "cat_encoded_df = pd.concat([cat_encoded_df, season_encoded_df],axis=1)"
   ]
  },
  {
   "cell_type": "code",
   "execution_count": 22,
   "id": "f5e9a043",
   "metadata": {},
   "outputs": [],
   "source": [
    "# As we have encoded the variables, we are going to drop the 4 variables\n",
    "df1.drop(['weekday', 'weathersit', 'mnth', 'season'], axis=1, inplace=True)"
   ]
  },
  {
   "cell_type": "code",
   "execution_count": 23,
   "id": "f70d68e1",
   "metadata": {},
   "outputs": [],
   "source": [
    "# concatenating encoded dataframe with original dataframe\n",
    "df1 = pd.concat([df1, cat_encoded_df], axis=1)"
   ]
  },
  {
   "cell_type": "code",
   "execution_count": 24,
   "id": "6b44409a",
   "metadata": {},
   "outputs": [
    {
     "data": {
      "text/html": [
       "<div>\n",
       "<style scoped>\n",
       "    .dataframe tbody tr th:only-of-type {\n",
       "        vertical-align: middle;\n",
       "    }\n",
       "\n",
       "    .dataframe tbody tr th {\n",
       "        vertical-align: top;\n",
       "    }\n",
       "\n",
       "    .dataframe thead th {\n",
       "        text-align: right;\n",
       "    }\n",
       "</style>\n",
       "<table border=\"1\" class=\"dataframe\">\n",
       "  <thead>\n",
       "    <tr style=\"text-align: right;\">\n",
       "      <th></th>\n",
       "      <th>yr</th>\n",
       "      <th>holiday</th>\n",
       "      <th>workingday</th>\n",
       "      <th>temp</th>\n",
       "      <th>atemp</th>\n",
       "      <th>hum</th>\n",
       "      <th>windspeed</th>\n",
       "      <th>cnt</th>\n",
       "      <th>weekday_1</th>\n",
       "      <th>weekday_2</th>\n",
       "      <th>weekday_3</th>\n",
       "      <th>weekday_4</th>\n",
       "      <th>weekday_5</th>\n",
       "      <th>weekday_6</th>\n",
       "      <th>weathersit_2</th>\n",
       "      <th>weathersit_3</th>\n",
       "      <th>mnth_2</th>\n",
       "      <th>mnth_3</th>\n",
       "      <th>mnth_4</th>\n",
       "      <th>mnth_5</th>\n",
       "      <th>mnth_6</th>\n",
       "      <th>mnth_7</th>\n",
       "      <th>mnth_8</th>\n",
       "      <th>mnth_9</th>\n",
       "      <th>mnth_10</th>\n",
       "      <th>mnth_11</th>\n",
       "      <th>mnth_12</th>\n",
       "      <th>Summer</th>\n",
       "      <th>Fall</th>\n",
       "      <th>Winter</th>\n",
       "    </tr>\n",
       "  </thead>\n",
       "  <tbody>\n",
       "    <tr>\n",
       "      <th>0</th>\n",
       "      <td>0</td>\n",
       "      <td>0</td>\n",
       "      <td>0</td>\n",
       "      <td>14.110847</td>\n",
       "      <td>18.18125</td>\n",
       "      <td>80.5833</td>\n",
       "      <td>10.749882</td>\n",
       "      <td>985</td>\n",
       "      <td>0</td>\n",
       "      <td>0</td>\n",
       "      <td>0</td>\n",
       "      <td>0</td>\n",
       "      <td>0</td>\n",
       "      <td>1</td>\n",
       "      <td>1</td>\n",
       "      <td>0</td>\n",
       "      <td>0</td>\n",
       "      <td>0</td>\n",
       "      <td>0</td>\n",
       "      <td>0</td>\n",
       "      <td>0</td>\n",
       "      <td>0</td>\n",
       "      <td>0</td>\n",
       "      <td>0</td>\n",
       "      <td>0</td>\n",
       "      <td>0</td>\n",
       "      <td>0</td>\n",
       "      <td>0</td>\n",
       "      <td>0</td>\n",
       "      <td>0</td>\n",
       "    </tr>\n",
       "    <tr>\n",
       "      <th>1</th>\n",
       "      <td>0</td>\n",
       "      <td>0</td>\n",
       "      <td>0</td>\n",
       "      <td>14.902598</td>\n",
       "      <td>17.68695</td>\n",
       "      <td>69.6087</td>\n",
       "      <td>16.652113</td>\n",
       "      <td>801</td>\n",
       "      <td>0</td>\n",
       "      <td>0</td>\n",
       "      <td>0</td>\n",
       "      <td>0</td>\n",
       "      <td>0</td>\n",
       "      <td>0</td>\n",
       "      <td>1</td>\n",
       "      <td>0</td>\n",
       "      <td>0</td>\n",
       "      <td>0</td>\n",
       "      <td>0</td>\n",
       "      <td>0</td>\n",
       "      <td>0</td>\n",
       "      <td>0</td>\n",
       "      <td>0</td>\n",
       "      <td>0</td>\n",
       "      <td>0</td>\n",
       "      <td>0</td>\n",
       "      <td>0</td>\n",
       "      <td>0</td>\n",
       "      <td>0</td>\n",
       "      <td>0</td>\n",
       "    </tr>\n",
       "    <tr>\n",
       "      <th>2</th>\n",
       "      <td>0</td>\n",
       "      <td>0</td>\n",
       "      <td>1</td>\n",
       "      <td>8.050924</td>\n",
       "      <td>9.47025</td>\n",
       "      <td>43.7273</td>\n",
       "      <td>16.636703</td>\n",
       "      <td>1349</td>\n",
       "      <td>1</td>\n",
       "      <td>0</td>\n",
       "      <td>0</td>\n",
       "      <td>0</td>\n",
       "      <td>0</td>\n",
       "      <td>0</td>\n",
       "      <td>0</td>\n",
       "      <td>0</td>\n",
       "      <td>0</td>\n",
       "      <td>0</td>\n",
       "      <td>0</td>\n",
       "      <td>0</td>\n",
       "      <td>0</td>\n",
       "      <td>0</td>\n",
       "      <td>0</td>\n",
       "      <td>0</td>\n",
       "      <td>0</td>\n",
       "      <td>0</td>\n",
       "      <td>0</td>\n",
       "      <td>0</td>\n",
       "      <td>0</td>\n",
       "      <td>0</td>\n",
       "    </tr>\n",
       "    <tr>\n",
       "      <th>3</th>\n",
       "      <td>0</td>\n",
       "      <td>0</td>\n",
       "      <td>1</td>\n",
       "      <td>8.200000</td>\n",
       "      <td>10.60610</td>\n",
       "      <td>59.0435</td>\n",
       "      <td>10.739832</td>\n",
       "      <td>1562</td>\n",
       "      <td>0</td>\n",
       "      <td>1</td>\n",
       "      <td>0</td>\n",
       "      <td>0</td>\n",
       "      <td>0</td>\n",
       "      <td>0</td>\n",
       "      <td>0</td>\n",
       "      <td>0</td>\n",
       "      <td>0</td>\n",
       "      <td>0</td>\n",
       "      <td>0</td>\n",
       "      <td>0</td>\n",
       "      <td>0</td>\n",
       "      <td>0</td>\n",
       "      <td>0</td>\n",
       "      <td>0</td>\n",
       "      <td>0</td>\n",
       "      <td>0</td>\n",
       "      <td>0</td>\n",
       "      <td>0</td>\n",
       "      <td>0</td>\n",
       "      <td>0</td>\n",
       "    </tr>\n",
       "    <tr>\n",
       "      <th>4</th>\n",
       "      <td>0</td>\n",
       "      <td>0</td>\n",
       "      <td>1</td>\n",
       "      <td>9.305237</td>\n",
       "      <td>11.46350</td>\n",
       "      <td>43.6957</td>\n",
       "      <td>12.522300</td>\n",
       "      <td>1600</td>\n",
       "      <td>0</td>\n",
       "      <td>0</td>\n",
       "      <td>1</td>\n",
       "      <td>0</td>\n",
       "      <td>0</td>\n",
       "      <td>0</td>\n",
       "      <td>0</td>\n",
       "      <td>0</td>\n",
       "      <td>0</td>\n",
       "      <td>0</td>\n",
       "      <td>0</td>\n",
       "      <td>0</td>\n",
       "      <td>0</td>\n",
       "      <td>0</td>\n",
       "      <td>0</td>\n",
       "      <td>0</td>\n",
       "      <td>0</td>\n",
       "      <td>0</td>\n",
       "      <td>0</td>\n",
       "      <td>0</td>\n",
       "      <td>0</td>\n",
       "      <td>0</td>\n",
       "    </tr>\n",
       "  </tbody>\n",
       "</table>\n",
       "</div>"
      ],
      "text/plain": [
       "  yr holiday workingday       temp     atemp      hum  windspeed   cnt  \\\n",
       "0  0       0          0  14.110847  18.18125  80.5833  10.749882   985   \n",
       "1  0       0          0  14.902598  17.68695  69.6087  16.652113   801   \n",
       "2  0       0          1   8.050924   9.47025  43.7273  16.636703  1349   \n",
       "3  0       0          1   8.200000  10.60610  59.0435  10.739832  1562   \n",
       "4  0       0          1   9.305237  11.46350  43.6957  12.522300  1600   \n",
       "\n",
       "   weekday_1  weekday_2  weekday_3  weekday_4  weekday_5  weekday_6  \\\n",
       "0          0          0          0          0          0          1   \n",
       "1          0          0          0          0          0          0   \n",
       "2          1          0          0          0          0          0   \n",
       "3          0          1          0          0          0          0   \n",
       "4          0          0          1          0          0          0   \n",
       "\n",
       "   weathersit_2  weathersit_3  mnth_2  mnth_3  mnth_4  mnth_5  mnth_6  mnth_7  \\\n",
       "0             1             0       0       0       0       0       0       0   \n",
       "1             1             0       0       0       0       0       0       0   \n",
       "2             0             0       0       0       0       0       0       0   \n",
       "3             0             0       0       0       0       0       0       0   \n",
       "4             0             0       0       0       0       0       0       0   \n",
       "\n",
       "   mnth_8  mnth_9  mnth_10  mnth_11  mnth_12  Summer  Fall  Winter  \n",
       "0       0       0        0        0        0       0     0       0  \n",
       "1       0       0        0        0        0       0     0       0  \n",
       "2       0       0        0        0        0       0     0       0  \n",
       "3       0       0        0        0        0       0     0       0  \n",
       "4       0       0        0        0        0       0     0       0  "
      ]
     },
     "execution_count": 24,
     "metadata": {},
     "output_type": "execute_result"
    }
   ],
   "source": [
    "df1.head()"
   ]
  },
  {
   "cell_type": "markdown",
   "id": "7cc88d67",
   "metadata": {},
   "source": [
    "### Feature Scaling"
   ]
  },
  {
   "cell_type": "code",
   "execution_count": 25,
   "id": "97697d23",
   "metadata": {},
   "outputs": [],
   "source": [
    "# Feature Scaling should be done after splitting data in order to avoid data breach. \n",
    "# divide the dataframe into train and test data\n",
    "df_train, df_test = train_test_split(df1, test_size=0.25, random_state = 100)"
   ]
  },
  {
   "cell_type": "code",
   "execution_count": 26,
   "id": "07d25927",
   "metadata": {},
   "outputs": [
    {
     "data": {
      "text/html": [
       "<div>\n",
       "<style scoped>\n",
       "    .dataframe tbody tr th:only-of-type {\n",
       "        vertical-align: middle;\n",
       "    }\n",
       "\n",
       "    .dataframe tbody tr th {\n",
       "        vertical-align: top;\n",
       "    }\n",
       "\n",
       "    .dataframe thead th {\n",
       "        text-align: right;\n",
       "    }\n",
       "</style>\n",
       "<table border=\"1\" class=\"dataframe\">\n",
       "  <thead>\n",
       "    <tr style=\"text-align: right;\">\n",
       "      <th></th>\n",
       "      <th>temp</th>\n",
       "      <th>atemp</th>\n",
       "      <th>hum</th>\n",
       "      <th>windspeed</th>\n",
       "    </tr>\n",
       "  </thead>\n",
       "  <tbody>\n",
       "    <tr>\n",
       "      <th>311</th>\n",
       "      <td>0.435124</td>\n",
       "      <td>0.437339</td>\n",
       "      <td>0.743667</td>\n",
       "      <td>0.057471</td>\n",
       "    </tr>\n",
       "    <tr>\n",
       "      <th>523</th>\n",
       "      <td>0.735215</td>\n",
       "      <td>0.680985</td>\n",
       "      <td>0.482181</td>\n",
       "      <td>0.286093</td>\n",
       "    </tr>\n",
       "    <tr>\n",
       "      <th>381</th>\n",
       "      <td>0.391151</td>\n",
       "      <td>0.374375</td>\n",
       "      <td>0.737917</td>\n",
       "      <td>0.659615</td>\n",
       "    </tr>\n",
       "    <tr>\n",
       "      <th>413</th>\n",
       "      <td>0.358285</td>\n",
       "      <td>0.362754</td>\n",
       "      <td>0.550880</td>\n",
       "      <td>0.319514</td>\n",
       "    </tr>\n",
       "    <tr>\n",
       "      <th>253</th>\n",
       "      <td>0.740406</td>\n",
       "      <td>0.695906</td>\n",
       "      <td>0.735509</td>\n",
       "      <td>0.156398</td>\n",
       "    </tr>\n",
       "  </tbody>\n",
       "</table>\n",
       "</div>"
      ],
      "text/plain": [
       "         temp     atemp       hum  windspeed\n",
       "311  0.435124  0.437339  0.743667   0.057471\n",
       "523  0.735215  0.680985  0.482181   0.286093\n",
       "381  0.391151  0.374375  0.737917   0.659615\n",
       "413  0.358285  0.362754  0.550880   0.319514\n",
       "253  0.740406  0.695906  0.735509   0.156398"
      ]
     },
     "execution_count": 26,
     "metadata": {},
     "output_type": "execute_result"
    }
   ],
   "source": [
    "# Scaling data for training data\n",
    "scaler = MinMaxScaler()\n",
    "df_train[continuous_vars] = scaler.fit_transform(df_train[continuous_vars])\n",
    "\n",
    "df_train[continuous_vars].head()"
   ]
  },
  {
   "cell_type": "markdown",
   "id": "76674829",
   "metadata": {},
   "source": [
    "### Building the model"
   ]
  },
  {
   "cell_type": "code",
   "execution_count": 28,
   "id": "d665f0b3",
   "metadata": {},
   "outputs": [],
   "source": [
    "from sklearn.feature_selection import RFE"
   ]
  },
  {
   "cell_type": "code",
   "execution_count": 29,
   "id": "b49d9ee7",
   "metadata": {},
   "outputs": [],
   "source": [
    "from sklearn.linear_model import LinearRegression"
   ]
  },
  {
   "cell_type": "code",
   "execution_count": 30,
   "id": "d491cc17",
   "metadata": {},
   "outputs": [],
   "source": [
    "lr = LinearRegression()"
   ]
  },
  {
   "cell_type": "code",
   "execution_count": 53,
   "id": "71c7743f",
   "metadata": {},
   "outputs": [
    {
     "data": {
      "text/plain": [
       "LinearRegression()"
      ]
     },
     "execution_count": 53,
     "metadata": {},
     "output_type": "execute_result"
    },
    {
     "data": {
      "text/plain": [
       "RFE(estimator=LinearRegression(), n_features_to_select=18)"
      ]
     },
     "execution_count": 53,
     "metadata": {},
     "output_type": "execute_result"
    }
   ],
   "source": [
    "y_train = df_train.cnt\n",
    "X_train = df_train.drop('cnt', axis=1)\n",
    "lr.fit(X_train, y_train)\n",
    "rfe = RFE(lr, n_features_to_select= 18)\n",
    "rfe.fit(X_train, y_train)"
   ]
  },
  {
   "cell_type": "code",
   "execution_count": 54,
   "id": "539cd515",
   "metadata": {},
   "outputs": [
    {
     "data": {
      "text/html": [
       "<div>\n",
       "<style scoped>\n",
       "    .dataframe tbody tr th:only-of-type {\n",
       "        vertical-align: middle;\n",
       "    }\n",
       "\n",
       "    .dataframe tbody tr th {\n",
       "        vertical-align: top;\n",
       "    }\n",
       "\n",
       "    .dataframe thead th {\n",
       "        text-align: right;\n",
       "    }\n",
       "</style>\n",
       "<table border=\"1\" class=\"dataframe\">\n",
       "  <thead>\n",
       "    <tr style=\"text-align: right;\">\n",
       "      <th></th>\n",
       "      <th>Columns</th>\n",
       "      <th>Support</th>\n",
       "      <th>Ranking</th>\n",
       "    </tr>\n",
       "  </thead>\n",
       "  <tbody>\n",
       "    <tr>\n",
       "      <th>0</th>\n",
       "      <td>yr</td>\n",
       "      <td>True</td>\n",
       "      <td>1</td>\n",
       "    </tr>\n",
       "    <tr>\n",
       "      <th>1</th>\n",
       "      <td>holiday</td>\n",
       "      <td>True</td>\n",
       "      <td>1</td>\n",
       "    </tr>\n",
       "    <tr>\n",
       "      <th>2</th>\n",
       "      <td>workingday</td>\n",
       "      <td>True</td>\n",
       "      <td>1</td>\n",
       "    </tr>\n",
       "    <tr>\n",
       "      <th>3</th>\n",
       "      <td>temp</td>\n",
       "      <td>True</td>\n",
       "      <td>1</td>\n",
       "    </tr>\n",
       "    <tr>\n",
       "      <th>5</th>\n",
       "      <td>hum</td>\n",
       "      <td>True</td>\n",
       "      <td>1</td>\n",
       "    </tr>\n",
       "    <tr>\n",
       "      <th>6</th>\n",
       "      <td>windspeed</td>\n",
       "      <td>True</td>\n",
       "      <td>1</td>\n",
       "    </tr>\n",
       "    <tr>\n",
       "      <th>12</th>\n",
       "      <td>weekday_6</td>\n",
       "      <td>True</td>\n",
       "      <td>1</td>\n",
       "    </tr>\n",
       "    <tr>\n",
       "      <th>13</th>\n",
       "      <td>weathersit_2</td>\n",
       "      <td>True</td>\n",
       "      <td>1</td>\n",
       "    </tr>\n",
       "    <tr>\n",
       "      <th>14</th>\n",
       "      <td>weathersit_3</td>\n",
       "      <td>True</td>\n",
       "      <td>1</td>\n",
       "    </tr>\n",
       "    <tr>\n",
       "      <th>16</th>\n",
       "      <td>mnth_3</td>\n",
       "      <td>True</td>\n",
       "      <td>1</td>\n",
       "    </tr>\n",
       "    <tr>\n",
       "      <th>18</th>\n",
       "      <td>mnth_5</td>\n",
       "      <td>True</td>\n",
       "      <td>1</td>\n",
       "    </tr>\n",
       "    <tr>\n",
       "      <th>19</th>\n",
       "      <td>mnth_6</td>\n",
       "      <td>True</td>\n",
       "      <td>1</td>\n",
       "    </tr>\n",
       "    <tr>\n",
       "      <th>21</th>\n",
       "      <td>mnth_8</td>\n",
       "      <td>True</td>\n",
       "      <td>1</td>\n",
       "    </tr>\n",
       "    <tr>\n",
       "      <th>22</th>\n",
       "      <td>mnth_9</td>\n",
       "      <td>True</td>\n",
       "      <td>1</td>\n",
       "    </tr>\n",
       "    <tr>\n",
       "      <th>23</th>\n",
       "      <td>mnth_10</td>\n",
       "      <td>True</td>\n",
       "      <td>1</td>\n",
       "    </tr>\n",
       "    <tr>\n",
       "      <th>26</th>\n",
       "      <td>Summer</td>\n",
       "      <td>True</td>\n",
       "      <td>1</td>\n",
       "    </tr>\n",
       "    <tr>\n",
       "      <th>27</th>\n",
       "      <td>Fall</td>\n",
       "      <td>True</td>\n",
       "      <td>1</td>\n",
       "    </tr>\n",
       "    <tr>\n",
       "      <th>28</th>\n",
       "      <td>Winter</td>\n",
       "      <td>True</td>\n",
       "      <td>1</td>\n",
       "    </tr>\n",
       "  </tbody>\n",
       "</table>\n",
       "</div>"
      ],
      "text/plain": [
       "         Columns  Support  Ranking\n",
       "0             yr     True        1\n",
       "1        holiday     True        1\n",
       "2     workingday     True        1\n",
       "3           temp     True        1\n",
       "5            hum     True        1\n",
       "6      windspeed     True        1\n",
       "12     weekday_6     True        1\n",
       "13  weathersit_2     True        1\n",
       "14  weathersit_3     True        1\n",
       "16        mnth_3     True        1\n",
       "18        mnth_5     True        1\n",
       "19        mnth_6     True        1\n",
       "21        mnth_8     True        1\n",
       "22        mnth_9     True        1\n",
       "23       mnth_10     True        1\n",
       "26        Summer     True        1\n",
       "27          Fall     True        1\n",
       "28        Winter     True        1"
      ]
     },
     "execution_count": 54,
     "metadata": {},
     "output_type": "execute_result"
    }
   ],
   "source": [
    "# Finding the dataframe with variables, support, ranking in order to eliminate the variables\n",
    "pd.DataFrame(zip(X_train.columns, rfe.support_, rfe.ranking_), columns = ['Columns', 'Support', 'Ranking'])[rfe.support_]"
   ]
  },
  {
   "cell_type": "code",
   "execution_count": 55,
   "id": "6e05fb54",
   "metadata": {},
   "outputs": [],
   "source": [
    "columns = X_train.columns[rfe.support_]"
   ]
  },
  {
   "cell_type": "markdown",
   "id": "cd014df7",
   "metadata": {},
   "source": [
    "## Linear Model 1"
   ]
  },
  {
   "cell_type": "code",
   "execution_count": 56,
   "id": "89ef7ca5",
   "metadata": {},
   "outputs": [
    {
     "name": "stdout",
     "output_type": "stream",
     "text": [
      "                            OLS Regression Results                            \n",
      "==============================================================================\n",
      "Dep. Variable:                    cnt   R-squared:                       0.854\n",
      "Model:                            OLS   Adj. R-squared:                  0.849\n",
      "Method:                 Least Squares   F-statistic:                     171.5\n",
      "Date:                Mon, 12 Sep 2022   Prob (F-statistic):          4.91e-207\n",
      "Time:                        23:32:43   Log-Likelihood:                -4394.9\n",
      "No. Observations:                 547   AIC:                             8828.\n",
      "Df Residuals:                     528   BIC:                             8910.\n",
      "Df Model:                          18                                         \n",
      "Covariance Type:            nonrobust                                         \n",
      "================================================================================\n",
      "                   coef    std err          t      P>|t|      [0.025      0.975]\n",
      "--------------------------------------------------------------------------------\n",
      "const         1649.4240    239.083      6.899      0.000    1179.753    2119.095\n",
      "yr            1998.4923     66.385     30.104      0.000    1868.081    2128.904\n",
      "holiday       -574.1565    215.395     -2.666      0.008    -997.294    -151.019\n",
      "workingday     390.7482     93.131      4.196      0.000     207.795     573.702\n",
      "temp          4066.3497    302.643     13.436      0.000    3471.817    4660.883\n",
      "hum          -1399.7352    315.660     -4.434      0.000   -2019.839    -779.631\n",
      "windspeed    -1525.6668    210.587     -7.245      0.000   -1939.357   -1111.976\n",
      "weekday_6      458.9322    118.836      3.862      0.000     225.484     692.381\n",
      "weathersit_2  -506.4908     85.862     -5.899      0.000    -675.164    -337.817\n",
      "weathersit_3 -2223.0957    223.250     -9.958      0.000   -2661.662   -1784.529\n",
      "mnth_3         301.8337    123.262      2.449      0.015      59.689     543.979\n",
      "mnth_5         270.2315    160.157      1.687      0.092     -44.391     584.854\n",
      "mnth_6         234.5664    153.263      1.530      0.126     -66.513     535.646\n",
      "mnth_8         462.9441    150.063      3.085      0.002     168.151     757.738\n",
      "mnth_9        1051.4413    144.462      7.278      0.000     767.651    1335.232\n",
      "mnth_10        447.1300    144.130      3.102      0.002     163.992     730.268\n",
      "Summer        1035.6775    128.677      8.049      0.000     782.897    1288.459\n",
      "Fall           447.3317    189.141      2.365      0.018      75.770     818.893\n",
      "Winter        1390.2559    116.958     11.887      0.000    1160.495    1620.017\n",
      "==============================================================================\n",
      "Omnibus:                       90.880   Durbin-Watson:                   2.071\n",
      "Prob(Omnibus):                  0.000   Jarque-Bera (JB):              255.672\n",
      "Skew:                          -0.809   Prob(JB):                     3.03e-56\n",
      "Kurtosis:                       5.933   Cond. No.                         21.8\n",
      "==============================================================================\n",
      "\n",
      "Notes:\n",
      "[1] Standard Errors assume that the covariance matrix of the errors is correctly specified.\n"
     ]
    }
   ],
   "source": [
    "X_train_sm = X_train[columns]\n",
    "X_train_sm = sm.add_constant(X_train_sm)\n",
    "lr1 = sm.OLS(y_train, X_train_sm.astype(float)).fit()\n",
    "print(lr1.summary())"
   ]
  },
  {
   "cell_type": "code",
   "execution_count": 57,
   "id": "ccbd3751",
   "metadata": {},
   "outputs": [],
   "source": [
    "vif = pd.DataFrame()\n",
    "vif['Features'] = X_train_sm.columns\n",
    "vif['VIF'] = [variance_inflation_factor(X_train_sm.astype(float).values, i) for i in range(X_train_sm.shape[1])]\n",
    "vif['VIF'] = round(vif['VIF'], 2)\n",
    "vif = vif.sort_values(by = 'VIF', ascending=False)"
   ]
  },
  {
   "cell_type": "code",
   "execution_count": 47,
   "id": "1fb97df1",
   "metadata": {},
   "outputs": [
    {
     "data": {
      "text/html": [
       "<div>\n",
       "<style scoped>\n",
       "    .dataframe tbody tr th:only-of-type {\n",
       "        vertical-align: middle;\n",
       "    }\n",
       "\n",
       "    .dataframe tbody tr th {\n",
       "        vertical-align: top;\n",
       "    }\n",
       "\n",
       "    .dataframe thead th {\n",
       "        text-align: right;\n",
       "    }\n",
       "</style>\n",
       "<table border=\"1\" class=\"dataframe\">\n",
       "  <thead>\n",
       "    <tr style=\"text-align: right;\">\n",
       "      <th></th>\n",
       "      <th>Features</th>\n",
       "      <th>VIF</th>\n",
       "    </tr>\n",
       "  </thead>\n",
       "  <tbody>\n",
       "    <tr>\n",
       "      <th>0</th>\n",
       "      <td>const</td>\n",
       "      <td>54.13</td>\n",
       "    </tr>\n",
       "    <tr>\n",
       "      <th>17</th>\n",
       "      <td>Fall</td>\n",
       "      <td>6.39</td>\n",
       "    </tr>\n",
       "    <tr>\n",
       "      <th>4</th>\n",
       "      <td>temp</td>\n",
       "      <td>4.40</td>\n",
       "    </tr>\n",
       "    <tr>\n",
       "      <th>16</th>\n",
       "      <td>Summer</td>\n",
       "      <td>2.90</td>\n",
       "    </tr>\n",
       "    <tr>\n",
       "      <th>18</th>\n",
       "      <td>Winter</td>\n",
       "      <td>2.40</td>\n",
       "    </tr>\n",
       "    <tr>\n",
       "      <th>5</th>\n",
       "      <td>hum</td>\n",
       "      <td>1.97</td>\n",
       "    </tr>\n",
       "    <tr>\n",
       "      <th>11</th>\n",
       "      <td>mnth_5</td>\n",
       "      <td>1.87</td>\n",
       "    </tr>\n",
       "    <tr>\n",
       "      <th>3</th>\n",
       "      <td>workingday</td>\n",
       "      <td>1.82</td>\n",
       "    </tr>\n",
       "    <tr>\n",
       "      <th>13</th>\n",
       "      <td>mnth_8</td>\n",
       "      <td>1.80</td>\n",
       "    </tr>\n",
       "    <tr>\n",
       "      <th>7</th>\n",
       "      <td>weekday_6</td>\n",
       "      <td>1.72</td>\n",
       "    </tr>\n",
       "    <tr>\n",
       "      <th>12</th>\n",
       "      <td>mnth_6</td>\n",
       "      <td>1.61</td>\n",
       "    </tr>\n",
       "    <tr>\n",
       "      <th>8</th>\n",
       "      <td>weathersit_2</td>\n",
       "      <td>1.59</td>\n",
       "    </tr>\n",
       "    <tr>\n",
       "      <th>15</th>\n",
       "      <td>mnth_10</td>\n",
       "      <td>1.57</td>\n",
       "    </tr>\n",
       "    <tr>\n",
       "      <th>14</th>\n",
       "      <td>mnth_9</td>\n",
       "      <td>1.46</td>\n",
       "    </tr>\n",
       "    <tr>\n",
       "      <th>10</th>\n",
       "      <td>mnth_3</td>\n",
       "      <td>1.26</td>\n",
       "    </tr>\n",
       "    <tr>\n",
       "      <th>9</th>\n",
       "      <td>weathersit_3</td>\n",
       "      <td>1.26</td>\n",
       "    </tr>\n",
       "    <tr>\n",
       "      <th>6</th>\n",
       "      <td>windspeed</td>\n",
       "      <td>1.20</td>\n",
       "    </tr>\n",
       "    <tr>\n",
       "      <th>2</th>\n",
       "      <td>holiday</td>\n",
       "      <td>1.17</td>\n",
       "    </tr>\n",
       "    <tr>\n",
       "      <th>1</th>\n",
       "      <td>yr</td>\n",
       "      <td>1.04</td>\n",
       "    </tr>\n",
       "  </tbody>\n",
       "</table>\n",
       "</div>"
      ],
      "text/plain": [
       "        Features    VIF\n",
       "0          const  54.13\n",
       "17          Fall   6.39\n",
       "4           temp   4.40\n",
       "16        Summer   2.90\n",
       "18        Winter   2.40\n",
       "5            hum   1.97\n",
       "11        mnth_5   1.87\n",
       "3     workingday   1.82\n",
       "13        mnth_8   1.80\n",
       "7      weekday_6   1.72\n",
       "12        mnth_6   1.61\n",
       "8   weathersit_2   1.59\n",
       "15       mnth_10   1.57\n",
       "14        mnth_9   1.46\n",
       "10        mnth_3   1.26\n",
       "9   weathersit_3   1.26\n",
       "6      windspeed   1.20\n",
       "2        holiday   1.17\n",
       "1             yr   1.04"
      ]
     },
     "execution_count": 47,
     "metadata": {},
     "output_type": "execute_result"
    }
   ],
   "source": [
    "vif"
   ]
  },
  {
   "cell_type": "code",
   "execution_count": 45,
   "id": "8cea2922",
   "metadata": {},
   "outputs": [],
   "source": [
    "columns = list(X_train_sm.columns)"
   ]
  },
  {
   "cell_type": "markdown",
   "id": "c896f0b3",
   "metadata": {},
   "source": [
    "## Linear Model 2"
   ]
  },
  {
   "cell_type": "code",
   "execution_count": 58,
   "id": "83118caf",
   "metadata": {},
   "outputs": [
    {
     "name": "stdout",
     "output_type": "stream",
     "text": [
      "                            OLS Regression Results                            \n",
      "==============================================================================\n",
      "Dep. Variable:                    cnt   R-squared:                       0.854\n",
      "Model:                            OLS   Adj. R-squared:                  0.849\n",
      "Method:                 Least Squares   F-statistic:                     171.5\n",
      "Date:                Mon, 12 Sep 2022   Prob (F-statistic):          4.91e-207\n",
      "Time:                        23:36:23   Log-Likelihood:                -4394.9\n",
      "No. Observations:                 547   AIC:                             8828.\n",
      "Df Residuals:                     528   BIC:                             8910.\n",
      "Df Model:                          18                                         \n",
      "Covariance Type:            nonrobust                                         \n",
      "================================================================================\n",
      "                   coef    std err          t      P>|t|      [0.025      0.975]\n",
      "--------------------------------------------------------------------------------\n",
      "const         1649.4240    239.083      6.899      0.000    1179.753    2119.095\n",
      "yr            1998.4923     66.385     30.104      0.000    1868.081    2128.904\n",
      "holiday       -574.1565    215.395     -2.666      0.008    -997.294    -151.019\n",
      "workingday     390.7482     93.131      4.196      0.000     207.795     573.702\n",
      "temp          4066.3497    302.643     13.436      0.000    3471.817    4660.883\n",
      "hum          -1399.7352    315.660     -4.434      0.000   -2019.839    -779.631\n",
      "windspeed    -1525.6668    210.587     -7.245      0.000   -1939.357   -1111.976\n",
      "weekday_6      458.9322    118.836      3.862      0.000     225.484     692.381\n",
      "weathersit_2  -506.4908     85.862     -5.899      0.000    -675.164    -337.817\n",
      "weathersit_3 -2223.0957    223.250     -9.958      0.000   -2661.662   -1784.529\n",
      "mnth_3         301.8337    123.262      2.449      0.015      59.689     543.979\n",
      "mnth_5         270.2315    160.157      1.687      0.092     -44.391     584.854\n",
      "mnth_6         234.5664    153.263      1.530      0.126     -66.513     535.646\n",
      "mnth_8         462.9441    150.063      3.085      0.002     168.151     757.738\n",
      "mnth_9        1051.4413    144.462      7.278      0.000     767.651    1335.232\n",
      "mnth_10        447.1300    144.130      3.102      0.002     163.992     730.268\n",
      "Summer        1035.6775    128.677      8.049      0.000     782.897    1288.459\n",
      "Fall           447.3317    189.141      2.365      0.018      75.770     818.893\n",
      "Winter        1390.2559    116.958     11.887      0.000    1160.495    1620.017\n",
      "==============================================================================\n",
      "Omnibus:                       90.880   Durbin-Watson:                   2.071\n",
      "Prob(Omnibus):                  0.000   Jarque-Bera (JB):              255.672\n",
      "Skew:                          -0.809   Prob(JB):                     3.03e-56\n",
      "Kurtosis:                       5.933   Cond. No.                         21.8\n",
      "==============================================================================\n",
      "\n",
      "Notes:\n",
      "[1] Standard Errors assume that the covariance matrix of the errors is correctly specified.\n"
     ]
    }
   ],
   "source": [
    "\n",
    "X_train_sm = X_train_sm[columns]\n",
    "X_train_sm = sm.add_constant(X_train_sm)\n",
    "lr2 = sm.OLS(y_train, X_train_sm.astype(float)).fit()\n",
    "print(lr2.summary())"
   ]
  },
  {
   "cell_type": "code",
   "execution_count": 59,
   "id": "12b223c8",
   "metadata": {},
   "outputs": [],
   "source": [
    "vif = pd.DataFrame()\n",
    "vif['Features'] = X_train_sm.columns\n",
    "vif['VIF'] = [variance_inflation_factor(X_train_sm.astype(float).values, i) for i in range(X_train_sm.shape[1])]\n",
    "vif['VIF'] = round(vif['VIF'], 2)\n",
    "vif = vif.sort_values(by = 'VIF', ascending=False)"
   ]
  },
  {
   "cell_type": "code",
   "execution_count": 60,
   "id": "97af906d",
   "metadata": {},
   "outputs": [
    {
     "data": {
      "text/html": [
       "<div>\n",
       "<style scoped>\n",
       "    .dataframe tbody tr th:only-of-type {\n",
       "        vertical-align: middle;\n",
       "    }\n",
       "\n",
       "    .dataframe tbody tr th {\n",
       "        vertical-align: top;\n",
       "    }\n",
       "\n",
       "    .dataframe thead th {\n",
       "        text-align: right;\n",
       "    }\n",
       "</style>\n",
       "<table border=\"1\" class=\"dataframe\">\n",
       "  <thead>\n",
       "    <tr style=\"text-align: right;\">\n",
       "      <th></th>\n",
       "      <th>Features</th>\n",
       "      <th>VIF</th>\n",
       "    </tr>\n",
       "  </thead>\n",
       "  <tbody>\n",
       "    <tr>\n",
       "      <th>0</th>\n",
       "      <td>const</td>\n",
       "      <td>54.13</td>\n",
       "    </tr>\n",
       "    <tr>\n",
       "      <th>17</th>\n",
       "      <td>Fall</td>\n",
       "      <td>6.39</td>\n",
       "    </tr>\n",
       "    <tr>\n",
       "      <th>4</th>\n",
       "      <td>temp</td>\n",
       "      <td>4.40</td>\n",
       "    </tr>\n",
       "    <tr>\n",
       "      <th>16</th>\n",
       "      <td>Summer</td>\n",
       "      <td>2.90</td>\n",
       "    </tr>\n",
       "    <tr>\n",
       "      <th>18</th>\n",
       "      <td>Winter</td>\n",
       "      <td>2.40</td>\n",
       "    </tr>\n",
       "    <tr>\n",
       "      <th>5</th>\n",
       "      <td>hum</td>\n",
       "      <td>1.97</td>\n",
       "    </tr>\n",
       "    <tr>\n",
       "      <th>11</th>\n",
       "      <td>mnth_5</td>\n",
       "      <td>1.87</td>\n",
       "    </tr>\n",
       "    <tr>\n",
       "      <th>3</th>\n",
       "      <td>workingday</td>\n",
       "      <td>1.82</td>\n",
       "    </tr>\n",
       "    <tr>\n",
       "      <th>13</th>\n",
       "      <td>mnth_8</td>\n",
       "      <td>1.80</td>\n",
       "    </tr>\n",
       "    <tr>\n",
       "      <th>7</th>\n",
       "      <td>weekday_6</td>\n",
       "      <td>1.72</td>\n",
       "    </tr>\n",
       "    <tr>\n",
       "      <th>12</th>\n",
       "      <td>mnth_6</td>\n",
       "      <td>1.61</td>\n",
       "    </tr>\n",
       "    <tr>\n",
       "      <th>8</th>\n",
       "      <td>weathersit_2</td>\n",
       "      <td>1.59</td>\n",
       "    </tr>\n",
       "    <tr>\n",
       "      <th>15</th>\n",
       "      <td>mnth_10</td>\n",
       "      <td>1.57</td>\n",
       "    </tr>\n",
       "    <tr>\n",
       "      <th>14</th>\n",
       "      <td>mnth_9</td>\n",
       "      <td>1.46</td>\n",
       "    </tr>\n",
       "    <tr>\n",
       "      <th>10</th>\n",
       "      <td>mnth_3</td>\n",
       "      <td>1.26</td>\n",
       "    </tr>\n",
       "    <tr>\n",
       "      <th>9</th>\n",
       "      <td>weathersit_3</td>\n",
       "      <td>1.26</td>\n",
       "    </tr>\n",
       "    <tr>\n",
       "      <th>6</th>\n",
       "      <td>windspeed</td>\n",
       "      <td>1.20</td>\n",
       "    </tr>\n",
       "    <tr>\n",
       "      <th>2</th>\n",
       "      <td>holiday</td>\n",
       "      <td>1.17</td>\n",
       "    </tr>\n",
       "    <tr>\n",
       "      <th>1</th>\n",
       "      <td>yr</td>\n",
       "      <td>1.04</td>\n",
       "    </tr>\n",
       "  </tbody>\n",
       "</table>\n",
       "</div>"
      ],
      "text/plain": [
       "        Features    VIF\n",
       "0          const  54.13\n",
       "17          Fall   6.39\n",
       "4           temp   4.40\n",
       "16        Summer   2.90\n",
       "18        Winter   2.40\n",
       "5            hum   1.97\n",
       "11        mnth_5   1.87\n",
       "3     workingday   1.82\n",
       "13        mnth_8   1.80\n",
       "7      weekday_6   1.72\n",
       "12        mnth_6   1.61\n",
       "8   weathersit_2   1.59\n",
       "15       mnth_10   1.57\n",
       "14        mnth_9   1.46\n",
       "10        mnth_3   1.26\n",
       "9   weathersit_3   1.26\n",
       "6      windspeed   1.20\n",
       "2        holiday   1.17\n",
       "1             yr   1.04"
      ]
     },
     "execution_count": 60,
     "metadata": {},
     "output_type": "execute_result"
    }
   ],
   "source": [
    "vif"
   ]
  },
  {
   "cell_type": "code",
   "execution_count": 78,
   "id": "d64ce19a",
   "metadata": {},
   "outputs": [],
   "source": [
    "#Removing mnth_6 having the highest P value\n",
    "columns = list(X_train_sm.columns)\n",
    "columns.remove('mnth_6')\n"
   ]
  },
  {
   "cell_type": "markdown",
   "id": "fbaaf90e",
   "metadata": {},
   "source": [
    "## Linear Model 3"
   ]
  },
  {
   "cell_type": "code",
   "execution_count": 79,
   "id": "9efd83b8",
   "metadata": {},
   "outputs": [
    {
     "name": "stdout",
     "output_type": "stream",
     "text": [
      "                            OLS Regression Results                            \n",
      "==============================================================================\n",
      "Dep. Variable:                    cnt   R-squared:                       0.853\n",
      "Model:                            OLS   Adj. R-squared:                  0.849\n",
      "Method:                 Least Squares   F-statistic:                     181.0\n",
      "Date:                Tue, 13 Sep 2022   Prob (F-statistic):          1.15e-207\n",
      "Time:                        00:22:04   Log-Likelihood:                -4396.1\n",
      "No. Observations:                 547   AIC:                             8828.\n",
      "Df Residuals:                     529   BIC:                             8906.\n",
      "Df Model:                          17                                         \n",
      "Covariance Type:            nonrobust                                         \n",
      "================================================================================\n",
      "                   coef    std err          t      P>|t|      [0.025      0.975]\n",
      "--------------------------------------------------------------------------------\n",
      "const         1651.7964    239.381      6.900      0.000    1181.542    2122.051\n",
      "yr            1991.8231     66.326     30.031      0.000    1861.528    2122.118\n",
      "holiday       -589.2986    215.441     -2.735      0.006   -1012.523    -166.074\n",
      "workingday     387.4110     93.224      4.156      0.000     204.276     570.546\n",
      "temp          4244.5042    279.716     15.174      0.000    3695.013    4793.995\n",
      "hum          -1447.2556    314.528     -4.601      0.000   -2065.132    -829.379\n",
      "windspeed    -1558.7424    209.741     -7.432      0.000   -1970.769   -1146.716\n",
      "weekday_6      456.3589    118.974      3.836      0.000     222.639     690.079\n",
      "weathersit_2  -501.3894     85.906     -5.836      0.000    -670.149    -332.630\n",
      "weathersit_3 -2216.2903    223.488     -9.917      0.000   -2655.324   -1777.257\n",
      "mnth_3         261.6389    120.585      2.170      0.030      24.755     498.523\n",
      "mnth_5         169.1113    146.078      1.158      0.248    -117.853     456.076\n",
      "mnth_8         409.6404    146.150      2.803      0.005     122.534     696.747\n",
      "mnth_9        1013.8358    142.537      7.113      0.000     733.827    1293.845\n",
      "mnth_10        422.8284    143.434      2.948      0.003     141.058     704.599\n",
      "Summer        1064.5487    127.448      8.353      0.000     814.183    1314.915\n",
      "Fall           400.4069    186.876      2.143      0.033      33.297     767.517\n",
      "Winter        1365.3181    115.965     11.774      0.000    1137.510    1593.126\n",
      "==============================================================================\n",
      "Omnibus:                       89.488   Durbin-Watson:                   2.075\n",
      "Prob(Omnibus):                  0.000   Jarque-Bera (JB):              240.798\n",
      "Skew:                          -0.811   Prob(JB):                     5.15e-53\n",
      "Kurtosis:                       5.816   Cond. No.                         21.5\n",
      "==============================================================================\n",
      "\n",
      "Notes:\n",
      "[1] Standard Errors assume that the covariance matrix of the errors is correctly specified.\n"
     ]
    }
   ],
   "source": [
    "X_train_sm = X_train_sm[columns]\n",
    "X_train_sm = sm.add_constant(X_train_sm)\n",
    "lr2 = sm.OLS(y_train, X_train_sm.astype(float)).fit()\n",
    "print(lr2.summary())"
   ]
  },
  {
   "cell_type": "code",
   "execution_count": 80,
   "id": "96bec496",
   "metadata": {},
   "outputs": [
    {
     "data": {
      "text/html": [
       "<div>\n",
       "<style scoped>\n",
       "    .dataframe tbody tr th:only-of-type {\n",
       "        vertical-align: middle;\n",
       "    }\n",
       "\n",
       "    .dataframe tbody tr th {\n",
       "        vertical-align: top;\n",
       "    }\n",
       "\n",
       "    .dataframe thead th {\n",
       "        text-align: right;\n",
       "    }\n",
       "</style>\n",
       "<table border=\"1\" class=\"dataframe\">\n",
       "  <thead>\n",
       "    <tr style=\"text-align: right;\">\n",
       "      <th></th>\n",
       "      <th>Features</th>\n",
       "      <th>VIF</th>\n",
       "    </tr>\n",
       "  </thead>\n",
       "  <tbody>\n",
       "    <tr>\n",
       "      <th>0</th>\n",
       "      <td>const</td>\n",
       "      <td>54.13</td>\n",
       "    </tr>\n",
       "    <tr>\n",
       "      <th>16</th>\n",
       "      <td>Fall</td>\n",
       "      <td>6.22</td>\n",
       "    </tr>\n",
       "    <tr>\n",
       "      <th>4</th>\n",
       "      <td>temp</td>\n",
       "      <td>3.75</td>\n",
       "    </tr>\n",
       "    <tr>\n",
       "      <th>15</th>\n",
       "      <td>Summer</td>\n",
       "      <td>2.84</td>\n",
       "    </tr>\n",
       "    <tr>\n",
       "      <th>17</th>\n",
       "      <td>Winter</td>\n",
       "      <td>2.35</td>\n",
       "    </tr>\n",
       "    <tr>\n",
       "      <th>5</th>\n",
       "      <td>hum</td>\n",
       "      <td>1.95</td>\n",
       "    </tr>\n",
       "    <tr>\n",
       "      <th>3</th>\n",
       "      <td>workingday</td>\n",
       "      <td>1.82</td>\n",
       "    </tr>\n",
       "    <tr>\n",
       "      <th>7</th>\n",
       "      <td>weekday_6</td>\n",
       "      <td>1.72</td>\n",
       "    </tr>\n",
       "    <tr>\n",
       "      <th>12</th>\n",
       "      <td>mnth_8</td>\n",
       "      <td>1.71</td>\n",
       "    </tr>\n",
       "    <tr>\n",
       "      <th>8</th>\n",
       "      <td>weathersit_2</td>\n",
       "      <td>1.58</td>\n",
       "    </tr>\n",
       "    <tr>\n",
       "      <th>14</th>\n",
       "      <td>mnth_10</td>\n",
       "      <td>1.56</td>\n",
       "    </tr>\n",
       "    <tr>\n",
       "      <th>11</th>\n",
       "      <td>mnth_5</td>\n",
       "      <td>1.55</td>\n",
       "    </tr>\n",
       "    <tr>\n",
       "      <th>13</th>\n",
       "      <td>mnth_9</td>\n",
       "      <td>1.42</td>\n",
       "    </tr>\n",
       "    <tr>\n",
       "      <th>9</th>\n",
       "      <td>weathersit_3</td>\n",
       "      <td>1.26</td>\n",
       "    </tr>\n",
       "    <tr>\n",
       "      <th>10</th>\n",
       "      <td>mnth_3</td>\n",
       "      <td>1.20</td>\n",
       "    </tr>\n",
       "    <tr>\n",
       "      <th>6</th>\n",
       "      <td>windspeed</td>\n",
       "      <td>1.19</td>\n",
       "    </tr>\n",
       "    <tr>\n",
       "      <th>2</th>\n",
       "      <td>holiday</td>\n",
       "      <td>1.17</td>\n",
       "    </tr>\n",
       "    <tr>\n",
       "      <th>1</th>\n",
       "      <td>yr</td>\n",
       "      <td>1.04</td>\n",
       "    </tr>\n",
       "  </tbody>\n",
       "</table>\n",
       "</div>"
      ],
      "text/plain": [
       "        Features    VIF\n",
       "0          const  54.13\n",
       "16          Fall   6.22\n",
       "4           temp   3.75\n",
       "15        Summer   2.84\n",
       "17        Winter   2.35\n",
       "5            hum   1.95\n",
       "3     workingday   1.82\n",
       "7      weekday_6   1.72\n",
       "12        mnth_8   1.71\n",
       "8   weathersit_2   1.58\n",
       "14       mnth_10   1.56\n",
       "11        mnth_5   1.55\n",
       "13        mnth_9   1.42\n",
       "9   weathersit_3   1.26\n",
       "10        mnth_3   1.20\n",
       "6      windspeed   1.19\n",
       "2        holiday   1.17\n",
       "1             yr   1.04"
      ]
     },
     "execution_count": 80,
     "metadata": {},
     "output_type": "execute_result"
    }
   ],
   "source": [
    "vif = pd.DataFrame()\n",
    "vif['Features'] = X_train_sm.columns\n",
    "vif['VIF'] = [variance_inflation_factor(X_train_sm.astype(float).values, i) for i in range(X_train_sm.shape[1])]\n",
    "vif['VIF'] = round(vif['VIF'], 2)\n",
    "vif = vif.sort_values(by = 'VIF', ascending=False)\n",
    "vif"
   ]
  },
  {
   "cell_type": "markdown",
   "id": "6a860ba2",
   "metadata": {},
   "source": [
    "## Linear Model 4"
   ]
  },
  {
   "cell_type": "code",
   "execution_count": 81,
   "id": "c9601d3b",
   "metadata": {},
   "outputs": [],
   "source": [
    "#Removing mnth_5 having the highest P value\n",
    "columns = list(X_train_sm.columns)\n",
    "columns.remove('mnth_5')"
   ]
  },
  {
   "cell_type": "code",
   "execution_count": 82,
   "id": "0286e793",
   "metadata": {},
   "outputs": [
    {
     "name": "stdout",
     "output_type": "stream",
     "text": [
      "                            OLS Regression Results                            \n",
      "==============================================================================\n",
      "Dep. Variable:                    cnt   R-squared:                       0.853\n",
      "Model:                            OLS   Adj. R-squared:                  0.849\n",
      "Method:                 Least Squares   F-statistic:                     192.1\n",
      "Date:                Tue, 13 Sep 2022   Prob (F-statistic):          1.59e-208\n",
      "Time:                        00:24:10   Log-Likelihood:                -4396.8\n",
      "No. Observations:                 547   AIC:                             8828.\n",
      "Df Residuals:                     530   BIC:                             8901.\n",
      "Df Model:                          16                                         \n",
      "Covariance Type:            nonrobust                                         \n",
      "================================================================================\n",
      "                   coef    std err          t      P>|t|      [0.025      0.975]\n",
      "--------------------------------------------------------------------------------\n",
      "const         1619.3716    237.814      6.809      0.000    1152.199    2086.544\n",
      "yr            1986.9982     66.216     30.008      0.000    1856.920    2117.077\n",
      "holiday       -593.8011    215.475     -2.756      0.006   -1017.091    -170.511\n",
      "workingday     389.6021     93.235      4.179      0.000     206.447     572.757\n",
      "temp          4297.0737    276.094     15.564      0.000    3754.700    4839.447\n",
      "hum          -1397.5900    311.688     -4.484      0.000   -2009.886    -785.294\n",
      "windspeed    -1569.7979    209.590     -7.490      0.000   -1981.527   -1158.068\n",
      "weekday_6      454.8015    119.005      3.822      0.000     221.022     688.581\n",
      "weathersit_2  -504.7349     85.885     -5.877      0.000    -673.452    -336.018\n",
      "weathersit_3 -2230.2460    223.235     -9.991      0.000   -2668.779   -1791.713\n",
      "mnth_3         237.0849    118.743      1.997      0.046       3.820     470.350\n",
      "mnth_8         407.1091    146.181      2.785      0.006     119.944     694.274\n",
      "mnth_9        1010.6252    142.556      7.089      0.000     730.581    1290.670\n",
      "mnth_10        414.9307    143.318      2.895      0.004     133.390     696.471\n",
      "Summer        1101.3458    123.460      8.921      0.000     858.815    1343.877\n",
      "Fall           365.2092    184.445      1.980      0.048       2.875     727.543\n",
      "Winter        1349.1361    115.156     11.716      0.000    1122.918    1575.354\n",
      "==============================================================================\n",
      "Omnibus:                       87.269   Durbin-Watson:                   2.076\n",
      "Prob(Omnibus):                  0.000   Jarque-Bera (JB):              226.213\n",
      "Skew:                          -0.804   Prob(JB):                     7.56e-50\n",
      "Kurtosis:                       5.709   Cond. No.                         21.4\n",
      "==============================================================================\n",
      "\n",
      "Notes:\n",
      "[1] Standard Errors assume that the covariance matrix of the errors is correctly specified.\n"
     ]
    }
   ],
   "source": [
    "X_train_sm = X_train_sm[columns]\n",
    "X_train_sm = sm.add_constant(X_train_sm)\n",
    "lr3 = sm.OLS(y_train, X_train_sm.astype(float)).fit()\n",
    "print(lr3.summary())"
   ]
  },
  {
   "cell_type": "code",
   "execution_count": 83,
   "id": "260e7a83",
   "metadata": {},
   "outputs": [
    {
     "data": {
      "text/html": [
       "<div>\n",
       "<style scoped>\n",
       "    .dataframe tbody tr th:only-of-type {\n",
       "        vertical-align: middle;\n",
       "    }\n",
       "\n",
       "    .dataframe tbody tr th {\n",
       "        vertical-align: top;\n",
       "    }\n",
       "\n",
       "    .dataframe thead th {\n",
       "        text-align: right;\n",
       "    }\n",
       "</style>\n",
       "<table border=\"1\" class=\"dataframe\">\n",
       "  <thead>\n",
       "    <tr style=\"text-align: right;\">\n",
       "      <th></th>\n",
       "      <th>Features</th>\n",
       "      <th>VIF</th>\n",
       "    </tr>\n",
       "  </thead>\n",
       "  <tbody>\n",
       "    <tr>\n",
       "      <th>0</th>\n",
       "      <td>const</td>\n",
       "      <td>53.39</td>\n",
       "    </tr>\n",
       "    <tr>\n",
       "      <th>15</th>\n",
       "      <td>Fall</td>\n",
       "      <td>6.06</td>\n",
       "    </tr>\n",
       "    <tr>\n",
       "      <th>4</th>\n",
       "      <td>temp</td>\n",
       "      <td>3.65</td>\n",
       "    </tr>\n",
       "    <tr>\n",
       "      <th>14</th>\n",
       "      <td>Summer</td>\n",
       "      <td>2.66</td>\n",
       "    </tr>\n",
       "    <tr>\n",
       "      <th>16</th>\n",
       "      <td>Winter</td>\n",
       "      <td>2.32</td>\n",
       "    </tr>\n",
       "    <tr>\n",
       "      <th>5</th>\n",
       "      <td>hum</td>\n",
       "      <td>1.91</td>\n",
       "    </tr>\n",
       "    <tr>\n",
       "      <th>3</th>\n",
       "      <td>workingday</td>\n",
       "      <td>1.82</td>\n",
       "    </tr>\n",
       "    <tr>\n",
       "      <th>7</th>\n",
       "      <td>weekday_6</td>\n",
       "      <td>1.72</td>\n",
       "    </tr>\n",
       "    <tr>\n",
       "      <th>11</th>\n",
       "      <td>mnth_8</td>\n",
       "      <td>1.71</td>\n",
       "    </tr>\n",
       "    <tr>\n",
       "      <th>8</th>\n",
       "      <td>weathersit_2</td>\n",
       "      <td>1.58</td>\n",
       "    </tr>\n",
       "    <tr>\n",
       "      <th>13</th>\n",
       "      <td>mnth_10</td>\n",
       "      <td>1.55</td>\n",
       "    </tr>\n",
       "    <tr>\n",
       "      <th>12</th>\n",
       "      <td>mnth_9</td>\n",
       "      <td>1.42</td>\n",
       "    </tr>\n",
       "    <tr>\n",
       "      <th>9</th>\n",
       "      <td>weathersit_3</td>\n",
       "      <td>1.25</td>\n",
       "    </tr>\n",
       "    <tr>\n",
       "      <th>6</th>\n",
       "      <td>windspeed</td>\n",
       "      <td>1.19</td>\n",
       "    </tr>\n",
       "    <tr>\n",
       "      <th>2</th>\n",
       "      <td>holiday</td>\n",
       "      <td>1.17</td>\n",
       "    </tr>\n",
       "    <tr>\n",
       "      <th>10</th>\n",
       "      <td>mnth_3</td>\n",
       "      <td>1.16</td>\n",
       "    </tr>\n",
       "    <tr>\n",
       "      <th>1</th>\n",
       "      <td>yr</td>\n",
       "      <td>1.03</td>\n",
       "    </tr>\n",
       "  </tbody>\n",
       "</table>\n",
       "</div>"
      ],
      "text/plain": [
       "        Features    VIF\n",
       "0          const  53.39\n",
       "15          Fall   6.06\n",
       "4           temp   3.65\n",
       "14        Summer   2.66\n",
       "16        Winter   2.32\n",
       "5            hum   1.91\n",
       "3     workingday   1.82\n",
       "7      weekday_6   1.72\n",
       "11        mnth_8   1.71\n",
       "8   weathersit_2   1.58\n",
       "13       mnth_10   1.55\n",
       "12        mnth_9   1.42\n",
       "9   weathersit_3   1.25\n",
       "6      windspeed   1.19\n",
       "2        holiday   1.17\n",
       "10        mnth_3   1.16\n",
       "1             yr   1.03"
      ]
     },
     "execution_count": 83,
     "metadata": {},
     "output_type": "execute_result"
    }
   ],
   "source": [
    "vif = pd.DataFrame()\n",
    "vif['Features'] = X_train_sm.columns\n",
    "vif['VIF'] = [variance_inflation_factor(X_train_sm.astype(float).values, i) for i in range(X_train_sm.shape[1])]\n",
    "vif['VIF'] = round(vif['VIF'], 2)\n",
    "vif = vif.sort_values(by = 'VIF', ascending=False)\n",
    "vif"
   ]
  },
  {
   "cell_type": "markdown",
   "id": "089d234e",
   "metadata": {},
   "source": [
    "## Removing mnth_3 because of it's p value"
   ]
  },
  {
   "cell_type": "markdown",
   "id": "53be115f",
   "metadata": {},
   "source": [
    "## Linear Model 6"
   ]
  },
  {
   "cell_type": "code",
   "execution_count": 84,
   "id": "27d557e5",
   "metadata": {},
   "outputs": [],
   "source": [
    "#Removing mnth_3 having the highest P value\n",
    "columns = list(X_train_sm.columns)\n",
    "columns.remove('mnth_3')"
   ]
  },
  {
   "cell_type": "code",
   "execution_count": 85,
   "id": "84124803",
   "metadata": {},
   "outputs": [
    {
     "name": "stdout",
     "output_type": "stream",
     "text": [
      "                            OLS Regression Results                            \n",
      "==============================================================================\n",
      "Dep. Variable:                    cnt   R-squared:                       0.852\n",
      "Model:                            OLS   Adj. R-squared:                  0.848\n",
      "Method:                 Least Squares   F-statistic:                     203.5\n",
      "Date:                Tue, 13 Sep 2022   Prob (F-statistic):          7.90e-209\n",
      "Time:                        00:27:09   Log-Likelihood:                -4398.9\n",
      "No. Observations:                 547   AIC:                             8830.\n",
      "Df Residuals:                     531   BIC:                             8899.\n",
      "Df Model:                          15                                         \n",
      "Covariance Type:            nonrobust                                         \n",
      "================================================================================\n",
      "                   coef    std err          t      P>|t|      [0.025      0.975]\n",
      "--------------------------------------------------------------------------------\n",
      "const         1677.5746    236.683      7.088      0.000    1212.625    2142.524\n",
      "yr            1983.5851     66.380     29.882      0.000    1853.185    2113.985\n",
      "holiday       -617.9486    215.739     -2.864      0.004   -1041.756    -194.141\n",
      "workingday     398.0254     93.401      4.261      0.000     214.545     581.506\n",
      "temp          4326.9894    276.462     15.651      0.000    3783.896    4870.082\n",
      "hum          -1429.0519    312.164     -4.578      0.000   -2042.280    -815.824\n",
      "windspeed    -1552.7303    210.004     -7.394      0.000   -1965.271   -1140.190\n",
      "weekday_6      462.6675    119.274      3.879      0.000     228.361     696.974\n",
      "weathersit_2  -503.7772     86.125     -5.849      0.000    -672.965    -334.590\n",
      "weathersit_3 -2206.1100    223.533     -9.869      0.000   -2645.228   -1766.992\n",
      "mnth_8         408.7859    146.589      2.789      0.005     120.821     696.751\n",
      "mnth_9        1014.5460    142.943      7.098      0.000     733.743    1295.349\n",
      "mnth_10        410.6816    143.704      2.858      0.004     128.383     692.981\n",
      "Summer        1065.7718    122.511      8.699      0.000     825.106    1306.437\n",
      "Fall           292.0223    181.274      1.611      0.108     -64.080     648.125\n",
      "Winter        1289.6179    111.543     11.562      0.000    1070.498    1508.738\n",
      "==============================================================================\n",
      "Omnibus:                       83.546   Durbin-Watson:                   2.074\n",
      "Prob(Omnibus):                  0.000   Jarque-Bera (JB):              227.343\n",
      "Skew:                          -0.756   Prob(JB):                     4.30e-50\n",
      "Kurtosis:                       5.773   Cond. No.                         21.3\n",
      "==============================================================================\n",
      "\n",
      "Notes:\n",
      "[1] Standard Errors assume that the covariance matrix of the errors is correctly specified.\n"
     ]
    }
   ],
   "source": [
    "X_train_sm = X_train_sm[columns]\n",
    "X_train_sm = sm.add_constant(X_train_sm)\n",
    "lr5 = sm.OLS(y_train, X_train_sm.astype(float)).fit()\n",
    "print(lr5.summary())"
   ]
  },
  {
   "cell_type": "code",
   "execution_count": 89,
   "id": "a71ca825",
   "metadata": {},
   "outputs": [
    {
     "data": {
      "text/html": [
       "<div>\n",
       "<style scoped>\n",
       "    .dataframe tbody tr th:only-of-type {\n",
       "        vertical-align: middle;\n",
       "    }\n",
       "\n",
       "    .dataframe tbody tr th {\n",
       "        vertical-align: top;\n",
       "    }\n",
       "\n",
       "    .dataframe thead th {\n",
       "        text-align: right;\n",
       "    }\n",
       "</style>\n",
       "<table border=\"1\" class=\"dataframe\">\n",
       "  <thead>\n",
       "    <tr style=\"text-align: right;\">\n",
       "      <th></th>\n",
       "      <th>Features</th>\n",
       "      <th>VIF</th>\n",
       "    </tr>\n",
       "  </thead>\n",
       "  <tbody>\n",
       "    <tr>\n",
       "      <th>0</th>\n",
       "      <td>const</td>\n",
       "      <td>52.59</td>\n",
       "    </tr>\n",
       "    <tr>\n",
       "      <th>14</th>\n",
       "      <td>Fall</td>\n",
       "      <td>5.82</td>\n",
       "    </tr>\n",
       "    <tr>\n",
       "      <th>4</th>\n",
       "      <td>temp</td>\n",
       "      <td>3.64</td>\n",
       "    </tr>\n",
       "    <tr>\n",
       "      <th>13</th>\n",
       "      <td>Summer</td>\n",
       "      <td>2.61</td>\n",
       "    </tr>\n",
       "    <tr>\n",
       "      <th>15</th>\n",
       "      <td>Winter</td>\n",
       "      <td>2.16</td>\n",
       "    </tr>\n",
       "    <tr>\n",
       "      <th>5</th>\n",
       "      <td>hum</td>\n",
       "      <td>1.91</td>\n",
       "    </tr>\n",
       "    <tr>\n",
       "      <th>3</th>\n",
       "      <td>workingday</td>\n",
       "      <td>1.81</td>\n",
       "    </tr>\n",
       "    <tr>\n",
       "      <th>7</th>\n",
       "      <td>weekday_6</td>\n",
       "      <td>1.72</td>\n",
       "    </tr>\n",
       "    <tr>\n",
       "      <th>10</th>\n",
       "      <td>mnth_8</td>\n",
       "      <td>1.71</td>\n",
       "    </tr>\n",
       "    <tr>\n",
       "      <th>8</th>\n",
       "      <td>weathersit_2</td>\n",
       "      <td>1.58</td>\n",
       "    </tr>\n",
       "    <tr>\n",
       "      <th>12</th>\n",
       "      <td>mnth_10</td>\n",
       "      <td>1.55</td>\n",
       "    </tr>\n",
       "    <tr>\n",
       "      <th>11</th>\n",
       "      <td>mnth_9</td>\n",
       "      <td>1.42</td>\n",
       "    </tr>\n",
       "    <tr>\n",
       "      <th>9</th>\n",
       "      <td>weathersit_3</td>\n",
       "      <td>1.25</td>\n",
       "    </tr>\n",
       "    <tr>\n",
       "      <th>6</th>\n",
       "      <td>windspeed</td>\n",
       "      <td>1.18</td>\n",
       "    </tr>\n",
       "    <tr>\n",
       "      <th>2</th>\n",
       "      <td>holiday</td>\n",
       "      <td>1.17</td>\n",
       "    </tr>\n",
       "    <tr>\n",
       "      <th>1</th>\n",
       "      <td>yr</td>\n",
       "      <td>1.03</td>\n",
       "    </tr>\n",
       "  </tbody>\n",
       "</table>\n",
       "</div>"
      ],
      "text/plain": [
       "        Features    VIF\n",
       "0          const  52.59\n",
       "14          Fall   5.82\n",
       "4           temp   3.64\n",
       "13        Summer   2.61\n",
       "15        Winter   2.16\n",
       "5            hum   1.91\n",
       "3     workingday   1.81\n",
       "7      weekday_6   1.72\n",
       "10        mnth_8   1.71\n",
       "8   weathersit_2   1.58\n",
       "12       mnth_10   1.55\n",
       "11        mnth_9   1.42\n",
       "9   weathersit_3   1.25\n",
       "6      windspeed   1.18\n",
       "2        holiday   1.17\n",
       "1             yr   1.03"
      ]
     },
     "execution_count": 89,
     "metadata": {},
     "output_type": "execute_result"
    }
   ],
   "source": [
    "vif = pd.DataFrame()\n",
    "vif['Features'] = X_train_sm.columns\n",
    "vif['VIF'] = [variance_inflation_factor(X_train_sm.astype(float).values, i) for i in range(X_train_sm.shape[1])]\n",
    "vif['VIF'] = round(vif['VIF'], 2)\n",
    "vif = vif.sort_values(by = 'VIF', ascending=False)\n",
    "vif"
   ]
  },
  {
   "cell_type": "markdown",
   "id": "7b5696ca",
   "metadata": {},
   "source": [
    "## Removing Fall because of it's high VIF value\n",
    "\n",
    "## Linear Model 6"
   ]
  },
  {
   "cell_type": "code",
   "execution_count": 91,
   "id": "07c2c22d",
   "metadata": {},
   "outputs": [],
   "source": [
    "#Removing Fall having the highest P value\n",
    "columns = list(X_train_sm.columns)\n",
    "columns.remove('Fall')"
   ]
  },
  {
   "cell_type": "code",
   "execution_count": 92,
   "id": "66f6f934",
   "metadata": {},
   "outputs": [
    {
     "name": "stdout",
     "output_type": "stream",
     "text": [
      "                            OLS Regression Results                            \n",
      "==============================================================================\n",
      "Dep. Variable:                    cnt   R-squared:                       0.851\n",
      "Model:                            OLS   Adj. R-squared:                  0.847\n",
      "Method:                 Least Squares   F-statistic:                     217.2\n",
      "Date:                Tue, 13 Sep 2022   Prob (F-statistic):          1.91e-209\n",
      "Time:                        00:30:18   Log-Likelihood:                -4400.2\n",
      "No. Observations:                 547   AIC:                             8830.\n",
      "Df Residuals:                     532   BIC:                             8895.\n",
      "Df Model:                          14                                         \n",
      "Covariance Type:            nonrobust                                         \n",
      "================================================================================\n",
      "                   coef    std err          t      P>|t|      [0.025      0.975]\n",
      "--------------------------------------------------------------------------------\n",
      "const         1665.1773    236.912      7.029      0.000    1199.779    2130.575\n",
      "yr            1974.6491     66.247     29.807      0.000    1844.511    2104.787\n",
      "holiday       -629.2699    215.948     -2.914      0.004   -1053.485    -205.055\n",
      "workingday     396.1901     93.534      4.236      0.000     212.449     579.931\n",
      "temp          4659.6643    184.082     25.313      0.000    4298.047    5021.282\n",
      "hum          -1489.9186    310.333     -4.801      0.000   -2099.547    -880.290\n",
      "windspeed    -1579.3474    209.667     -7.533      0.000   -1991.223   -1167.471\n",
      "weekday_6      461.8640    119.451      3.867      0.000     227.210     696.518\n",
      "weathersit_2  -497.2931     86.160     -5.772      0.000    -666.548    -328.038\n",
      "weathersit_3 -2169.6463    222.717     -9.742      0.000   -2607.159   -1732.133\n",
      "mnth_8         497.5308    136.047      3.657      0.000     230.275     764.787\n",
      "mnth_9        1091.8288    134.854      8.096      0.000     826.917    1356.740\n",
      "mnth_10        379.2985    142.591      2.660      0.008      99.188     659.409\n",
      "Summer         931.7804     90.083     10.344      0.000     754.818    1108.743\n",
      "Winter        1208.1275     99.562     12.134      0.000    1012.544    1403.711\n",
      "==============================================================================\n",
      "Omnibus:                       76.873   Durbin-Watson:                   2.072\n",
      "Prob(Omnibus):                  0.000   Jarque-Bera (JB):              196.268\n",
      "Skew:                          -0.717   Prob(JB):                     2.40e-43\n",
      "Kurtosis:                       5.560   Cond. No.                         20.7\n",
      "==============================================================================\n",
      "\n",
      "Notes:\n",
      "[1] Standard Errors assume that the covariance matrix of the errors is correctly specified.\n"
     ]
    }
   ],
   "source": [
    "X_train_sm = X_train_sm[columns]\n",
    "X_train_sm = sm.add_constant(X_train_sm)\n",
    "lr6 = sm.OLS(y_train, X_train_sm.astype(float)).fit()\n",
    "print(lr6.summary())"
   ]
  },
  {
   "cell_type": "code",
   "execution_count": 93,
   "id": "d72d4842",
   "metadata": {},
   "outputs": [
    {
     "data": {
      "text/html": [
       "<div>\n",
       "<style scoped>\n",
       "    .dataframe tbody tr th:only-of-type {\n",
       "        vertical-align: middle;\n",
       "    }\n",
       "\n",
       "    .dataframe tbody tr th {\n",
       "        vertical-align: top;\n",
       "    }\n",
       "\n",
       "    .dataframe thead th {\n",
       "        text-align: right;\n",
       "    }\n",
       "</style>\n",
       "<table border=\"1\" class=\"dataframe\">\n",
       "  <thead>\n",
       "    <tr style=\"text-align: right;\">\n",
       "      <th></th>\n",
       "      <th>Features</th>\n",
       "      <th>VIF</th>\n",
       "    </tr>\n",
       "  </thead>\n",
       "  <tbody>\n",
       "    <tr>\n",
       "      <th>0</th>\n",
       "      <td>const</td>\n",
       "      <td>52.53</td>\n",
       "    </tr>\n",
       "    <tr>\n",
       "      <th>5</th>\n",
       "      <td>hum</td>\n",
       "      <td>1.88</td>\n",
       "    </tr>\n",
       "    <tr>\n",
       "      <th>3</th>\n",
       "      <td>workingday</td>\n",
       "      <td>1.81</td>\n",
       "    </tr>\n",
       "    <tr>\n",
       "      <th>7</th>\n",
       "      <td>weekday_6</td>\n",
       "      <td>1.72</td>\n",
       "    </tr>\n",
       "    <tr>\n",
       "      <th>14</th>\n",
       "      <td>Winter</td>\n",
       "      <td>1.72</td>\n",
       "    </tr>\n",
       "    <tr>\n",
       "      <th>4</th>\n",
       "      <td>temp</td>\n",
       "      <td>1.61</td>\n",
       "    </tr>\n",
       "    <tr>\n",
       "      <th>8</th>\n",
       "      <td>weathersit_2</td>\n",
       "      <td>1.58</td>\n",
       "    </tr>\n",
       "    <tr>\n",
       "      <th>12</th>\n",
       "      <td>mnth_10</td>\n",
       "      <td>1.52</td>\n",
       "    </tr>\n",
       "    <tr>\n",
       "      <th>10</th>\n",
       "      <td>mnth_8</td>\n",
       "      <td>1.46</td>\n",
       "    </tr>\n",
       "    <tr>\n",
       "      <th>13</th>\n",
       "      <td>Summer</td>\n",
       "      <td>1.40</td>\n",
       "    </tr>\n",
       "    <tr>\n",
       "      <th>11</th>\n",
       "      <td>mnth_9</td>\n",
       "      <td>1.26</td>\n",
       "    </tr>\n",
       "    <tr>\n",
       "      <th>9</th>\n",
       "      <td>weathersit_3</td>\n",
       "      <td>1.24</td>\n",
       "    </tr>\n",
       "    <tr>\n",
       "      <th>6</th>\n",
       "      <td>windspeed</td>\n",
       "      <td>1.18</td>\n",
       "    </tr>\n",
       "    <tr>\n",
       "      <th>2</th>\n",
       "      <td>holiday</td>\n",
       "      <td>1.16</td>\n",
       "    </tr>\n",
       "    <tr>\n",
       "      <th>1</th>\n",
       "      <td>yr</td>\n",
       "      <td>1.03</td>\n",
       "    </tr>\n",
       "  </tbody>\n",
       "</table>\n",
       "</div>"
      ],
      "text/plain": [
       "        Features    VIF\n",
       "0          const  52.53\n",
       "5            hum   1.88\n",
       "3     workingday   1.81\n",
       "7      weekday_6   1.72\n",
       "14        Winter   1.72\n",
       "4           temp   1.61\n",
       "8   weathersit_2   1.58\n",
       "12       mnth_10   1.52\n",
       "10        mnth_8   1.46\n",
       "13        Summer   1.40\n",
       "11        mnth_9   1.26\n",
       "9   weathersit_3   1.24\n",
       "6      windspeed   1.18\n",
       "2        holiday   1.16\n",
       "1             yr   1.03"
      ]
     },
     "execution_count": 93,
     "metadata": {},
     "output_type": "execute_result"
    }
   ],
   "source": [
    "vif = pd.DataFrame()\n",
    "vif['Features'] = X_train_sm.columns\n",
    "vif['VIF'] = [variance_inflation_factor(X_train_sm.astype(float).values, i) for i in range(X_train_sm.shape[1])]\n",
    "vif['VIF'] = round(vif['VIF'], 2)\n",
    "vif = vif.sort_values(by = 'VIF', ascending=False)\n",
    "vif"
   ]
  },
  {
   "cell_type": "markdown",
   "id": "feb90119",
   "metadata": {},
   "source": [
    "## Predictions, scale the dataframe with test data and start predicting with latest linear model"
   ]
  },
  {
   "cell_type": "code",
   "execution_count": 95,
   "id": "3a254fa8",
   "metadata": {},
   "outputs": [
    {
     "data": {
      "text/html": [
       "<div>\n",
       "<style scoped>\n",
       "    .dataframe tbody tr th:only-of-type {\n",
       "        vertical-align: middle;\n",
       "    }\n",
       "\n",
       "    .dataframe tbody tr th {\n",
       "        vertical-align: top;\n",
       "    }\n",
       "\n",
       "    .dataframe thead th {\n",
       "        text-align: right;\n",
       "    }\n",
       "</style>\n",
       "<table border=\"1\" class=\"dataframe\">\n",
       "  <thead>\n",
       "    <tr style=\"text-align: right;\">\n",
       "      <th></th>\n",
       "      <th>temp</th>\n",
       "      <th>atemp</th>\n",
       "      <th>hum</th>\n",
       "      <th>windspeed</th>\n",
       "    </tr>\n",
       "  </thead>\n",
       "  <tbody>\n",
       "    <tr>\n",
       "      <th>184</th>\n",
       "      <td>0.837241</td>\n",
       "      <td>0.778767</td>\n",
       "      <td>0.534223</td>\n",
       "      <td>0.149393</td>\n",
       "    </tr>\n",
       "    <tr>\n",
       "      <th>535</th>\n",
       "      <td>0.911423</td>\n",
       "      <td>0.855132</td>\n",
       "      <td>0.470417</td>\n",
       "      <td>0.231142</td>\n",
       "    </tr>\n",
       "    <tr>\n",
       "      <th>299</th>\n",
       "      <td>0.496221</td>\n",
       "      <td>0.492359</td>\n",
       "      <td>0.777843</td>\n",
       "      <td>0.443398</td>\n",
       "    </tr>\n",
       "    <tr>\n",
       "      <th>221</th>\n",
       "      <td>0.890387</td>\n",
       "      <td>0.805661</td>\n",
       "      <td>0.236659</td>\n",
       "      <td>0.449707</td>\n",
       "    </tr>\n",
       "    <tr>\n",
       "      <th>152</th>\n",
       "      <td>0.821739</td>\n",
       "      <td>0.749249</td>\n",
       "      <td>0.070765</td>\n",
       "      <td>0.682387</td>\n",
       "    </tr>\n",
       "  </tbody>\n",
       "</table>\n",
       "</div>"
      ],
      "text/plain": [
       "         temp     atemp       hum  windspeed\n",
       "184  0.837241  0.778767  0.534223   0.149393\n",
       "535  0.911423  0.855132  0.470417   0.231142\n",
       "299  0.496221  0.492359  0.777843   0.443398\n",
       "221  0.890387  0.805661  0.236659   0.449707\n",
       "152  0.821739  0.749249  0.070765   0.682387"
      ]
     },
     "execution_count": 95,
     "metadata": {},
     "output_type": "execute_result"
    }
   ],
   "source": [
    "scaler = MinMaxScaler()\n",
    "df_test[continuous_vars] = scaler.fit_transform(df_test[continuous_vars])\n",
    "\n",
    "df_test[continuous_vars].head()"
   ]
  },
  {
   "cell_type": "code",
   "execution_count": 96,
   "id": "312fe23e",
   "metadata": {},
   "outputs": [],
   "source": [
    "y_test = df_test.pop('cnt')\n",
    "X_test = df_test\n",
    "X_test = sm.add_constant(X_test)\n",
    "X_test = X_test[columns]"
   ]
  },
  {
   "cell_type": "code",
   "execution_count": 97,
   "id": "72964c8a",
   "metadata": {},
   "outputs": [
    {
     "data": {
      "text/plain": [
       "0.7837332196179319"
      ]
     },
     "execution_count": 97,
     "metadata": {},
     "output_type": "execute_result"
    }
   ],
   "source": [
    "y_pred = lr6.predict(X_test)\n",
    "r2_score(y_test, y_pred)"
   ]
  },
  {
   "cell_type": "code",
   "execution_count": 98,
   "id": "d32363c7",
   "metadata": {},
   "outputs": [
    {
     "data": {
      "text/plain": [
       "(183, 15)"
      ]
     },
     "execution_count": 98,
     "metadata": {},
     "output_type": "execute_result"
    }
   ],
   "source": [
    "X_test.shape"
   ]
  },
  {
   "cell_type": "code",
   "execution_count": 100,
   "id": "5686368b",
   "metadata": {},
   "outputs": [
    {
     "data": {
      "text/plain": [
       "<AxesSubplot:ylabel='Density'>"
      ]
     },
     "execution_count": 100,
     "metadata": {},
     "output_type": "execute_result"
    },
    {
     "data": {
      "image/png": "[encoded data removed]",
      "text/plain": [
       "<Figure size 432x288 with 1 Axes>"
      ]
     },
     "metadata": {
      "needs_background": "light"
     },
     "output_type": "display_data"
    }
   ],
   "source": [
    "sns.distplot(y_pred - y_test)\n"
   ]
  },
  {
   "cell_type": "code",
   "execution_count": 101,
   "id": "50e2be53",
   "metadata": {},
   "outputs": [
    {
     "data": {
      "text/plain": [
       "<AxesSubplot:ylabel='cnt'>"
      ]
     },
     "execution_count": 101,
     "metadata": {},
     "output_type": "execute_result"
    },
    {
     "data": {
      "image/png": "[encoded data removed]",
      "text/plain": [
       "<Figure size 432x288 with 1 Axes>"
      ]
     },
     "metadata": {
      "needs_background": "light"
     },
     "output_type": "display_data"
    }
   ],
   "source": [
    "sns.scatterplot(y_pred, y_test)"
   ]
  },
  {
   "cell_type": "code",
   "execution_count": 102,
   "id": "ce9aee0e",
   "metadata": {},
   "outputs": [
    {
     "data": {
      "text/plain": [
       "(15,)"
      ]
     },
     "execution_count": 102,
     "metadata": {},
     "output_type": "execute_result"
    }
   ],
   "source": [
    "lr6.params.shape"
   ]
  },
  {
   "cell_type": "code",
   "execution_count": 108,
   "id": "899574be",
   "metadata": {},
   "outputs": [
    {
     "data": {
      "text/plain": [
       "<Figure size 1080x576 with 0 Axes>"
      ]
     },
     "execution_count": 108,
     "metadata": {},
     "output_type": "execute_result"
    },
    {
     "data": {
      "text/plain": [
       "<AxesSubplot:>"
      ]
     },
     "execution_count": 108,
     "metadata": {},
     "output_type": "execute_result"
    },
    {
     "data": {
      "text/plain": [
       "([<matplotlib.axis.XTick at 0x2ac989ded90>,\n",
       "  <matplotlib.axis.XTick at 0x2ac989ded60>,\n",
       "  <matplotlib.axis.XTick at 0x2ac989de490>,\n",
       "  <matplotlib.axis.XTick at 0x2ac98a460a0>,\n",
       "  <matplotlib.axis.XTick at 0x2ac98a467f0>,\n",
       "  <matplotlib.axis.XTick at 0x2ac98a4c0a0>,\n",
       "  <matplotlib.axis.XTick at 0x2ac98a4c6d0>,\n",
       "  <matplotlib.axis.XTick at 0x2ac98a4ce20>,\n",
       "  <matplotlib.axis.XTick at 0x2ac98a4ce80>,\n",
       "  <matplotlib.axis.XTick at 0x2ac98a46cd0>,\n",
       "  <matplotlib.axis.XTick at 0x2ac98a51490>,\n",
       "  <matplotlib.axis.XTick at 0x2ac98a51c70>,\n",
       "  <matplotlib.axis.XTick at 0x2ac98a5a400>,\n",
       "  <matplotlib.axis.XTick at 0x2ac98a5ab50>,\n",
       "  <matplotlib.axis.XTick at 0x2ac98a602e0>],\n",
       " [Text(0, 0, 'weathersit_3'),\n",
       "  Text(1, 0, 'windspeed'),\n",
       "  Text(2, 0, 'hum'),\n",
       "  Text(3, 0, 'holiday'),\n",
       "  Text(4, 0, 'weathersit_2'),\n",
       "  Text(5, 0, 'mnth_10'),\n",
       "  Text(6, 0, 'workingday'),\n",
       "  Text(7, 0, 'weekday_6'),\n",
       "  Text(8, 0, 'mnth_8'),\n",
       "  Text(9, 0, 'Summer'),\n",
       "  Text(10, 0, 'mnth_9'),\n",
       "  Text(11, 0, 'Winter'),\n",
       "  Text(12, 0, 'const'),\n",
       "  Text(13, 0, 'yr'),\n",
       "  Text(14, 0, 'temp')])"
      ]
     },
     "execution_count": 108,
     "metadata": {},
     "output_type": "execute_result"
    },
    {
     "data": {
      "image/png": "[encoded data removed]",
      "text/plain": [
       "<Figure size 1080x576 with 1 Axes>"
      ]
     },
     "metadata": {
      "needs_background": "light"
     },
     "output_type": "display_data"
    }
   ],
   "source": [
    "plt.figure(figsize = (15, 8))\n",
    "sns.barplot(lr6.params.values, lr6.params.values)\n",
    "ticks = np.arange(0,15,1)\n",
    "plt.xticks(ticks, labels = lr6.params.sort_values().index)\n",
    "plt.show()"
   ]
  },
  {
   "cell_type": "markdown",
   "id": "9917c79c",
   "metadata": {},
   "source": [
    "The most effecting variables for the model are:\n",
    "1. Temp\n",
    "2. Year\n",
    "3. Winter"
   ]
  },
  {
   "cell_type": "code",
   "execution_count": null,
   "id": "2dafa7ea",
   "metadata": {},
   "outputs": [],
   "source": []
  }
 ],
 "metadata": {
  "kernelspec": {
   "display_name": "Python 3 (ipykernel)",
   "language": "python",
   "name": "python3"
  },
  "language_info": {
   "codemirror_mode": {
    "name": "ipython",
    "version": 3
   },
   "file_extension": ".py",
   "mimetype": "text/x-python",
   "name": "python",
   "nbconvert_exporter": "python",
   "pygments_lexer": "ipython3",
   "version": "3.9.12"
  }
 },
 "nbformat": 4,
 "nbformat_minor": 5
}
